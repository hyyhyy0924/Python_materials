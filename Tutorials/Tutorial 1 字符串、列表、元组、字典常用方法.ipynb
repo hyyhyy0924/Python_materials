{
 "cells": [
  {
   "cell_type": "markdown",
   "metadata": {},
   "source": [
    "# Tutorial 1 字符串、列表、元组、字典常用方法\n",
    "\n"
   ]
  },
  {
   "cell_type": "markdown",
   "metadata": {},
   "source": [
    "## 在Python中初始化字符串文本：\n",
    "\n",
    "以下代码能否正常运行？"
   ]
  },
  {
   "cell_type": "code",
   "execution_count": 3,
   "metadata": {},
   "outputs": [
    {
     "name": "stdout",
     "output_type": "stream",
     "text": [
      "Python string\n"
     ]
    }
   ],
   "source": [
    "s = \"Python string'\n",
    "print(s)"
   ]
  },
  {
   "cell_type": "code",
   "execution_count": 4,
   "metadata": {},
   "outputs": [
    {
     "data": {
      "text/plain": [
       "1"
      ]
     },
     "execution_count": 4,
     "metadata": {},
     "output_type": "execute_result"
    }
   ],
   "source": [
    "#using single quote and double quote\n",
    "s = \"A Poor Woman's Journey.\"\n",
    "print(s)"
   ]
  },
  {
   "cell_type": "code",
   "execution_count": 5,
   "metadata": {},
   "outputs": [
    {
     "name": "stdout",
     "output_type": "stream",
     "text": [
      "I read the article, 'A Poor Woman's Journey.'\n"
     ]
    }
   ],
   "source": [
    "s = \"I read the article, 'A Poor Woman's Journey.'\"\n",
    "print(s)"
   ]
  },
  {
   "cell_type": "code",
   "execution_count": 8,
   "metadata": {},
   "outputs": [
    {
     "name": "stdout",
     "output_type": "stream",
     "text": [
      "dir \"c:\\&temp\\*.sas\" /o:n /b > \"c:\\&temp\u0007bc.txt\"\n"
     ]
    }
   ],
   "source": [
    "s = 'dir \"c:\\&temp\\*.sas\" /o:n /b > \"c:\\&temp\\abc.txt\"'\n",
    "print(s)"
   ]
  },
  {
   "cell_type": "code",
   "execution_count": null,
   "metadata": {},
   "outputs": [],
   "source": [
    "s = \"\"jQuery exercises\n",
    "        JavaScript tutorial\n",
    "        Python tutorial and exercises ...\"\"\n",
    "print(s)"
   ]
  },
  {
   "cell_type": "code",
   "execution_count": null,
   "metadata": {},
   "outputs": [],
   "source": [
    "s = 'jQuery exercises\\n  JavaScript tutorial\\n Python tutorial and exercises ...'\n",
    "print(s)"
   ]
  },
  {
   "cell_type": "markdown",
   "metadata": {},
   "source": [
    "## 从字符串访问字符"
   ]
  },
  {
   "cell_type": "code",
   "execution_count": 2,
   "metadata": {},
   "outputs": [],
   "source": [
    "a = \"Python string\""
   ]
  },
  {
   "cell_type": "markdown",
   "metadata": {},
   "source": [
    "如何在字符串a中获取“tho”？"
   ]
  },
  {
   "cell_type": "code",
   "execution_count": 3,
   "metadata": {},
   "outputs": [
    {
     "name": "stdout",
     "output_type": "stream",
     "text": [
      "tho\n"
     ]
    }
   ],
   "source": [
    "print(a[2:5])"
   ]
  },
  {
   "cell_type": "markdown",
   "metadata": {},
   "source": [
    "如何在字符串中获取“rn”？"
   ]
  },
  {
   "cell_type": "code",
   "execution_count": 10,
   "metadata": {},
   "outputs": [
    {
     "name": "stdout",
     "output_type": "stream",
     "text": [
      "rn\n"
     ]
    }
   ],
   "source": [
    "print(a[9:13:2])"
   ]
  },
  {
   "cell_type": "markdown",
   "metadata": {},
   "source": [
    "如何打印三遍字符串a，并且添加空格将每遍打印分开？"
   ]
  },
  {
   "cell_type": "code",
   "execution_count": 16,
   "metadata": {},
   "outputs": [
    {
     "name": "stdout",
     "output_type": "stream",
     "text": [
      "Python string Python string Python string\n"
     ]
    }
   ],
   "source": [
    "print(a+\" \"+a+\" \"+a)"
   ]
  },
  {
   "cell_type": "markdown",
   "metadata": {},
   "source": [
    "如何判断字符串中存在“n s”？"
   ]
  },
  {
   "cell_type": "code",
   "execution_count": 17,
   "metadata": {},
   "outputs": [
    {
     "data": {
      "text/plain": [
       "True"
      ]
     },
     "execution_count": 17,
     "metadata": {},
     "output_type": "execute_result"
    }
   ],
   "source": [
    "a = \"Python string\"\n",
    "'n s' in a"
   ]
  },
  {
   "cell_type": "markdown",
   "metadata": {},
   "source": [
    "如何将a中的“P”改成“A”"
   ]
  },
  {
   "cell_type": "markdown",
   "metadata": {},
   "source": [
    "### 不能改"
   ]
  },
  {
   "cell_type": "markdown",
   "metadata": {},
   "source": [
    "## 字符串长度\n",
    "\n",
    "len()是一个内置函数，它返回字符串中的字符数"
   ]
  },
  {
   "cell_type": "code",
   "execution_count": 1,
   "metadata": {},
   "outputs": [
    {
     "name": "stdout",
     "output_type": "stream",
     "text": [
      "13\n"
     ]
    },
    {
     "data": {
      "text/plain": [
       "int"
      ]
     },
     "execution_count": 1,
     "metadata": {},
     "output_type": "execute_result"
    }
   ],
   "source": [
    "a = \"Python string\"\n",
    "print(len(a)) \n",
    "\n",
    "type(len(a))"
   ]
  },
  {
   "cell_type": "markdown",
   "metadata": {},
   "source": [
    "带有一段时间或循环的遍历字符串\n",
    "\n",
    "许多计算都涉及一次逐个字符处理字符串字符。\n",
    "他们从头开始，选择每个角色，依次对它做点什么，然后一直持续到最后。\n",
    "这种处理模式称为遍历。\n",
    "你可以用一段时间或循环遍历字符串："
   ]
  },
  {
   "cell_type": "code",
   "execution_count": 3,
   "metadata": {},
   "outputs": [
    {
     "name": "stdout",
     "output_type": "stream",
     "text": [
      "S\n",
      "T\n",
      "R\n",
      "I\n",
      "N\n",
      "G\n"
     ]
    }
   ],
   "source": [
    "a = \"STRING\"\n",
    "i = 0\n",
    "while i < len(a):#6\n",
    "    c = a[i]\n",
    "    print(c)\n",
    "    i+=1"
   ]
  },
  {
   "cell_type": "markdown",
   "metadata": {},
   "source": [
    "使用for循环遍历：\n",
    "\n",
    "使用循环在一行上打印整个字符串。\n",
    "\n",
    "代码："
   ]
  },
  {
   "cell_type": "code",
   "execution_count": 27,
   "metadata": {},
   "outputs": [
    {
     "name": "stdout",
     "output_type": "stream",
     "text": [
      "P\n",
      " P\n",
      "y\n",
      " Py\n",
      "t\n",
      " Pyt\n",
      "h\n",
      " Pyth\n",
      "o\n",
      " Pytho\n",
      "n\n",
      " Python\n"
     ]
    }
   ],
   "source": [
    "a = \"Python\"\n",
    "i = 0\n",
    "new=\" \"\n",
    "for i in range (0,len(a)):#(0,6)=0,1,2,3,4,5\n",
    "  b=a[i]\n",
    "  # + used for concatenation\n",
    "  new = new+b \n",
    "  i = i + 1\n",
    "  # prints each char on one line\n",
    "  print(b) \n",
    "  print(new)\n"
   ]
  },
  {
   "cell_type": "markdown",
   "metadata": {},
   "source": [
    "## Python 字符串常用方法\n",
    "\n",
    "对字符串的操作方法都不会改变原来字符串的值\n",
    "\n",
    "### 1.去掉空格和特殊符号\n",
    "\n",
    "Python strip() 方法用于移除字符串头尾指定的字符（默认为空格）或字符序列。\n",
    "注意：该方法只能删除开头或是结尾的字符，不能删除中间部分的字符。"
   ]
  },
  {
   "cell_type": "code",
   "execution_count": 6,
   "metadata": {},
   "outputs": [
    {
     "name": "stdout",
     "output_type": "stream",
     "text": [
      "qq123abcxxaa\n",
      "qq123abcxxaa  \n",
      "  qq123abcxxaa\n",
      "11xx\n",
      "aaa11xx\n",
      "aaa11\n"
     ]
    }
   ],
   "source": [
    "name = '  qq123abcxxaa  '\n",
    "name1 = 'aaa11xx'\n",
    "print(name.strip())  #去掉空格和换行符\n",
    "\n",
    "print(name.lstrip()) #去掉左边的空格和换行符\n",
    "\n",
    "print(name.rstrip()) # 去掉右边的空格和换行符\n",
    "\n",
    "print(name1.strip('x'))  #去掉某个字符串\n",
    "\n",
    "print(name1.lstrip('x')) #去掉左边的字符串\n",
    "\n",
    "print(name1.rstrip('x')) # 去掉右边的空格和换行符"
   ]
  },
  {
   "cell_type": "markdown",
   "metadata": {},
   "source": [
    "## 2.字符串的搜索和替换"
   ]
  },
  {
   "cell_type": "code",
   "execution_count": 15,
   "metadata": {},
   "outputs": [
    {
     "name": "stdout",
     "output_type": "stream",
     "text": [
      "2\n",
      "Aaa11xx\n",
      "66666666666666666  qq123abcxxaa  66666666666666666\n",
      "2\n",
      "2\n",
      "  ww123abcxxaa  \n"
     ]
    }
   ],
   "source": [
    "\n",
    "name = '  qq123abcxxaa  '\n",
    "name1 = 'aaa11xx'\n",
    "print(name.count('x')) #查找某个字符在字符串里面出现的次数\n",
    "\n",
    "print(name1.capitalize())  #首字母大写\n",
    "\n",
    "print(name.center(50,'6'))   #把字符串放中间，两边用-补齐 center(补齐到多少位,用什么补齐)\n",
    "\n",
    "print(name.find('q'))   #找到这个字符返回下标，多个时返回第一个；不存在的字符返回-1\n",
    "\n",
    "print(name.index('q')) #找到这个字符返回下标，多个时返回第一个；不存在的字符报错\n",
    "\n",
    "print()  #字符串替换"
   ]
  },
  {
   "cell_type": "markdown",
   "metadata": {},
   "source": [
    "## 3.字符串的测试和替换函数"
   ]
  },
  {
   "cell_type": "code",
   "execution_count": 38,
   "metadata": {},
   "outputs": [
    {
     "name": "stdout",
     "output_type": "stream",
     "text": [
      "False\n",
      "False\n",
      "True\n",
      "True\n",
      "False\n",
      "False\n",
      "False\n",
      "False\n",
      "False\n"
     ]
    }
   ],
   "source": [
    "S = 'aaabbbccc'\n",
    "\n",
    "print(S.startswith('c',0,len(S))) #是否以a开头,str.startswith(需要确认的值（字符串）, 起始位置,结束位置);\n",
    "print(S.endswith('c',0,len(S))) #是否以c结尾，str.endswith(需要确认的值（字符串）, 起始位置,结束位置);\n",
    "print(S.isalnum()) #是否全是字母和数字，并至少有一个字符 \n",
    "print(S.isalpha()) #是否全是字母，并至少有一个字符 \n",
    "print(S.isdigit()) #是否全是数字，并至少有一个字符 \n",
    "print(S.isspace()) #是否全是空白字符，并至少有一个字符 \n",
    "print(S.islower()) #S中的字母是否全是小写 \n",
    "print(S.isupper()) #S中的字母是否全是大写 \n",
    "print(S.istitle()) #S是否只是首字母大写的"
   ]
  },
  {
   "cell_type": "markdown",
   "metadata": {},
   "source": [
    "## 4. 字符串的分割"
   ]
  },
  {
   "cell_type": "code",
   "execution_count": 43,
   "metadata": {},
   "outputs": [
    {
     "name": "stdout",
     "output_type": "stream",
     "text": [
      "['1', '2', '3', '4', '5']\n",
      "['1 2 3 4 5']\n"
     ]
    }
   ],
   "source": [
    "S2 = '1 2 3 4 5'\n",
    "S3 = '1,2,3,4,5'\n",
    "\n",
    "print(S2.split())  #默认是按照空格分割\n",
    "\n",
    "print((S2.split(',')))  #按照逗号分割"
   ]
  },
  {
   "cell_type": "markdown",
   "metadata": {},
   "source": [
    "##  列表常用方法\n",
    "\n",
    "### 1.创建列表"
   ]
  },
  {
   "cell_type": "code",
   "execution_count": 40,
   "metadata": {},
   "outputs": [
    {
     "name": "stdout",
     "output_type": "stream",
     "text": [
      "['a', 'b', 'c', 'd']\n"
     ]
    }
   ],
   "source": [
    "names = ['a','b','c','d']\n",
    "print(names)"
   ]
  },
  {
   "cell_type": "markdown",
   "metadata": {},
   "source": [
    "### 2.列表切片\n",
    "\n",
    "打印索引位置为2的元素值"
   ]
  },
  {
   "cell_type": "code",
   "execution_count": 42,
   "metadata": {},
   "outputs": [
    {
     "name": "stdout",
     "output_type": "stream",
     "text": [
      "c\n"
     ]
    }
   ],
   "source": [
    "print(names[2])"
   ]
  },
  {
   "cell_type": "markdown",
   "metadata": {},
   "source": [
    "打印最后一个位置"
   ]
  },
  {
   "cell_type": "code",
   "execution_count": 43,
   "metadata": {},
   "outputs": [
    {
     "name": "stdout",
     "output_type": "stream",
     "text": [
      "d\n"
     ]
    }
   ],
   "source": [
    "print(names[3])"
   ]
  },
  {
   "cell_type": "markdown",
   "metadata": {},
   "source": [
    "打印索引位置0到3的元素"
   ]
  },
  {
   "cell_type": "code",
   "execution_count": 44,
   "metadata": {},
   "outputs": [
    {
     "name": "stdout",
     "output_type": "stream",
     "text": [
      "['a', 'b', 'c', 'd']\n"
     ]
    }
   ],
   "source": [
    "print(names[:])"
   ]
  },
  {
   "cell_type": "markdown",
   "metadata": {},
   "source": [
    "打印索引位置-2到-1的元素"
   ]
  },
  {
   "cell_type": "code",
   "execution_count": 45,
   "metadata": {},
   "outputs": [
    {
     "name": "stdout",
     "output_type": "stream",
     "text": [
      "['c']\n"
     ]
    }
   ],
   "source": [
    "print(names[-2:-1])"
   ]
  },
  {
   "cell_type": "markdown",
   "metadata": {},
   "source": [
    "从头至尾每隔两个元素打印"
   ]
  },
  {
   "cell_type": "code",
   "execution_count": 46,
   "metadata": {},
   "outputs": [
    {
     "name": "stdout",
     "output_type": "stream",
     "text": [
      "['a', 'c']\n"
     ]
    }
   ],
   "source": [
    "print(names[0:3:2])"
   ]
  },
  {
   "cell_type": "markdown",
   "metadata": {},
   "source": [
    "### 3. 元素插入"
   ]
  },
  {
   "cell_type": "code",
   "execution_count": 89,
   "metadata": {},
   "outputs": [
    {
     "name": "stdout",
     "output_type": "stream",
     "text": [
      "['a', 'b', 'c', 'd', 'f']\n",
      "['a', 'g', 'b', 'c', 'd', 'f']\n"
     ]
    }
   ],
   "source": [
    "#追加放在最后\n",
    "names.append(\"f\");\n",
    "print(names)\n",
    "#插入insert(位置,内容)\n",
    "names.insert(1,\"g\");\n",
    "print(names)"
   ]
  },
  {
   "cell_type": "markdown",
   "metadata": {},
   "source": [
    "### 4.指定要修改元素的索引位置以及元素值\n",
    "\n",
    "将names列表索引位置1的数据改为'h'"
   ]
  },
  {
   "cell_type": "code",
   "execution_count": null,
   "metadata": {},
   "outputs": [],
   "source": [
    "names[1]='h'"
   ]
  },
  {
   "cell_type": "markdown",
   "metadata": {},
   "source": [
    "### 5. 拷贝"
   ]
  },
  {
   "cell_type": "code",
   "execution_count": 90,
   "metadata": {},
   "outputs": [
    {
     "name": "stdout",
     "output_type": "stream",
     "text": [
      "['a', 'g', 'b', 'c', 'd', 'f']\n",
      "['a', 'g', 'b', 'c', 'd', 'f']\n"
     ]
    }
   ],
   "source": [
    "names1 = names.copy()\n",
    "print(names)\n",
    "print(names1)"
   ]
  },
  {
   "cell_type": "markdown",
   "metadata": {},
   "source": [
    "### 6.删除元素"
   ]
  },
  {
   "cell_type": "code",
   "execution_count": 91,
   "metadata": {},
   "outputs": [
    {
     "name": "stdout",
     "output_type": "stream",
     "text": [
      "['a', 'g', 'b', 'c', 'd', 'f']\n",
      "['g', 'b', 'c', 'd', 'f']\n",
      "['b', 'c', 'd', 'f']\n",
      "['b', 'c', 'd']\n"
     ]
    }
   ],
   "source": [
    "names2 = names.copy()\n",
    "print(names2)\n",
    "#删除的3种方式\n",
    "#第一种,根据元素值进行删除\n",
    "names2.remove(\"a\")\n",
    "print(names2)\n",
    "#第二种，根据索引位置进行删除\n",
    "del names2[0]\n",
    "print(names2)\n",
    "#第三种，删除最后一个元素\n",
    "names2.pop()\n",
    "print(names2)"
   ]
  },
  {
   "cell_type": "markdown",
   "metadata": {},
   "source": [
    "### 7. 查询索引位置"
   ]
  },
  {
   "cell_type": "code",
   "execution_count": 92,
   "metadata": {},
   "outputs": [
    {
     "name": "stdout",
     "output_type": "stream",
     "text": [
      "4\n"
     ]
    }
   ],
   "source": [
    "print(names.index(\"d\"))"
   ]
  },
  {
   "cell_type": "markdown",
   "metadata": {},
   "source": [
    "### 8.统计"
   ]
  },
  {
   "cell_type": "code",
   "execution_count": 93,
   "metadata": {},
   "outputs": [
    {
     "name": "stdout",
     "output_type": "stream",
     "text": [
      "1\n"
     ]
    }
   ],
   "source": [
    "#list中含有a字符的数量\n",
    "print(names.count(\"a\"))"
   ]
  },
  {
   "cell_type": "markdown",
   "metadata": {},
   "source": [
    "### 9.清空"
   ]
  },
  {
   "cell_type": "code",
   "execution_count": 94,
   "metadata": {},
   "outputs": [
    {
     "name": "stdout",
     "output_type": "stream",
     "text": [
      "['a', 'g', 'b', 'c', 'd', 'f']\n",
      "[]\n"
     ]
    }
   ],
   "source": [
    "names3 = names.copy()\n",
    "print(names3)\n",
    "names3.clear()\n",
    "print(names3)"
   ]
  },
  {
   "cell_type": "markdown",
   "metadata": {},
   "source": [
    "### 10.反转"
   ]
  },
  {
   "cell_type": "code",
   "execution_count": 95,
   "metadata": {},
   "outputs": [
    {
     "name": "stdout",
     "output_type": "stream",
     "text": [
      "['a', 'g', 'b', 'c', 'd', 'f']\n",
      "['f', 'd', 'c', 'b', 'g', 'a']\n"
     ]
    }
   ],
   "source": [
    "names4 = names.copy()\n",
    "print(names4)\n",
    "names4.reverse()\n",
    "print(names4)"
   ]
  },
  {
   "cell_type": "markdown",
   "metadata": {},
   "source": [
    "### 11.排序"
   ]
  },
  {
   "cell_type": "code",
   "execution_count": 96,
   "metadata": {},
   "outputs": [
    {
     "name": "stdout",
     "output_type": "stream",
     "text": [
      "['a', 'g', 'b', 'c', 'd', 'f']\n",
      "['a', 'b', 'c', 'd', 'f', 'g']\n"
     ]
    }
   ],
   "source": [
    "names5 = names.copy()\n",
    "print(names5)\n",
    "names5.sort()\n",
    "print(names5)"
   ]
  },
  {
   "cell_type": "markdown",
   "metadata": {},
   "source": [
    "### 12.扩展"
   ]
  },
  {
   "cell_type": "code",
   "execution_count": 50,
   "metadata": {},
   "outputs": [
    {
     "name": "stdout",
     "output_type": "stream",
     "text": [
      "['a', 'b', 'c', 'd', 1, 2, 3, 4]\n"
     ]
    }
   ],
   "source": [
    "names6 = names.copy()\n",
    "names7 = [1,2,3,4]\n",
    "names6.extend(names7)\n",
    "print(names6)\n"
   ]
  },
  {
   "cell_type": "markdown",
   "metadata": {},
   "source": [
    "## 元组的常用方法"
   ]
  },
  {
   "cell_type": "code",
   "execution_count": 99,
   "metadata": {},
   "outputs": [
    {
     "name": "stdout",
     "output_type": "stream",
     "text": [
      "4\n",
      "3\n",
      "1\n",
      "5\n",
      "9\n",
      "(1, 2, 3)\n",
      "[1, 2, 3, 4, 5, 4, 1, 2, 1]\n"
     ]
    }
   ],
   "source": [
    "numbers = (1, 2, 3, 4, 5, 4, 1, 2, 1)\n",
    "\n",
    "print(numbers.index(5))  # 查找数据的下标\n",
    "\n",
    "print(numbers.count(1))  # 出现的次数\n",
    "\n",
    "print(min(numbers))  # 返回最小值\n",
    "\n",
    "print(max(numbers))  # 返回最大值\n",
    "\n",
    "print(len(numbers))  # len() 求元组的长度\n",
    "\n",
    "list1 = [1, 2, 3]\n",
    "print(tuple(list1))  # tuple(列表) 将列表转换成元组\n",
    "print(list(numbers)) # list(元组) 将元组转换成列表"
   ]
  },
  {
   "cell_type": "markdown",
   "metadata": {},
   "source": [
    "### 字典的常用方法"
   ]
  },
  {
   "cell_type": "markdown",
   "metadata": {},
   "source": [
    "### 1. 清空\n",
    "\n",
    "clear() 用于清空字典中所有的 key-value 对，对一个字典执行 clear() 方法之后，该字典就会变成一个空字典。"
   ]
  },
  {
   "cell_type": "code",
   "execution_count": 100,
   "metadata": {},
   "outputs": [
    {
     "name": "stdout",
     "output_type": "stream",
     "text": [
      "{'a': 1, 'b': 2, 'c': 3}\n",
      "{}\n"
     ]
    }
   ],
   "source": [
    "dic = {'a': 1, 'b': 2, 'c': 3}\n",
    "print(dic) \n",
    "dic.clear()\n",
    "print(dic) "
   ]
  },
  {
   "cell_type": "markdown",
   "metadata": {},
   "source": [
    "### 2.获取值\n",
    "\n",
    "get() 方法其实就是根据 key 来获取 value，它相当于方括号语法的增强版，当使用方括号语法访问并不存在的 key 时，字典会引发 KeyError 错误；但如果使用 get() 方法访问不存在的 key，该方法会简单地返回 None，不会导致错误。"
   ]
  },
  {
   "cell_type": "code",
   "execution_count": 103,
   "metadata": {},
   "outputs": [
    {
     "name": "stdout",
     "output_type": "stream",
     "text": [
      "1\n",
      "None\n"
     ]
    }
   ],
   "source": [
    "dic = {'a': 1, 'b': 2, 'c': 3}\n",
    "print(dic.get('a'))\n",
    "print(dic.get('m'))\n"
   ]
  },
  {
   "cell_type": "code",
   "execution_count": 104,
   "metadata": {},
   "outputs": [
    {
     "ename": "KeyError",
     "evalue": "'m'",
     "output_type": "error",
     "traceback": [
      "\u001b[0;31m---------------------------------------------------------------------------\u001b[0m",
      "\u001b[0;31mKeyError\u001b[0m                                  Traceback (most recent call last)",
      "\u001b[0;32m<ipython-input-104-cdca17016d9e>\u001b[0m in \u001b[0;36m<module>\u001b[0;34m\u001b[0m\n\u001b[0;32m----> 1\u001b[0;31m \u001b[0mprint\u001b[0m\u001b[0;34m(\u001b[0m\u001b[0mdic\u001b[0m\u001b[0;34m[\u001b[0m\u001b[0;34m'm'\u001b[0m\u001b[0;34m]\u001b[0m\u001b[0;34m)\u001b[0m\u001b[0;34m\u001b[0m\u001b[0;34m\u001b[0m\u001b[0m\n\u001b[0m",
      "\u001b[0;31mKeyError\u001b[0m: 'm'"
     ]
    }
   ],
   "source": [
    "print(dic['m'])"
   ]
  },
  {
   "cell_type": "markdown",
   "metadata": {},
   "source": [
    "### 3.更新\n",
    "update() 方法可使用一个字典所包含的 key-value 对来更新己有的字典。在执行 update() 方法时，如果被更新的字典中己包含对应的 key-value 对，那么原 value 会被覆盖；如果被更新的字典中不包含对应的 key-value 对，则该 key-value 对被添加进去。"
   ]
  },
  {
   "cell_type": "code",
   "execution_count": 52,
   "metadata": {},
   "outputs": [
    {
     "name": "stdout",
     "output_type": "stream",
     "text": [
      "{'a': 7, 'b': 2, 'c': 3, 'd': 1}\n"
     ]
    }
   ],
   "source": [
    "dic = {'a': 1, 'b': 2, 'c': 3}\n",
    "dic.update({'a':7, 'd': 1})\n",
    "print(dic)"
   ]
  },
  {
   "cell_type": "markdown",
   "metadata": {},
   "source": [
    "### 4.默认获取"
   ]
  },
  {
   "cell_type": "code",
   "execution_count": 53,
   "metadata": {},
   "outputs": [
    {
     "name": "stdout",
     "output_type": "stream",
     "text": [
      "4\n",
      "{'a': 1, 'b': 2, 'c': 3, 'd': 4}\n",
      "1\n",
      "{'a': 1, 'b': 2, 'c': 3, 'd': 4}\n"
     ]
    }
   ],
   "source": [
    "dic = {'a': 1, 'b': 2, 'c': 3}\n",
    "print(dic.setdefault('d', 4))\n",
    "print(dic)\n",
    "print(dic.setdefault('a', 33))\n",
    "print(dic)\n"
   ]
  },
  {
   "cell_type": "markdown",
   "metadata": {},
   "source": [
    "### 5.删除"
   ]
  },
  {
   "cell_type": "code",
   "execution_count": 107,
   "metadata": {},
   "outputs": [
    {
     "name": "stdout",
     "output_type": "stream",
     "text": [
      "1\n",
      "{'b': 2, 'c': 3}\n"
     ]
    }
   ],
   "source": [
    "dic = {'a': 1, 'b': 2, 'c': 3}\n",
    "print(dic.pop('a'))\n",
    "print(dic)"
   ]
  },
  {
   "cell_type": "code",
   "execution_count": 108,
   "metadata": {},
   "outputs": [
    {
     "name": "stdout",
     "output_type": "stream",
     "text": [
      "333333\n"
     ]
    }
   ],
   "source": []
  },
  {
   "cell_type": "code",
   "execution_count": 61,
   "metadata": {},
   "outputs": [
    {
     "name": "stdout",
     "output_type": "stream",
     "text": [
      "['ab', 'ef', 'gh', '']\n"
     ]
    }
   ],
   "source": [
    "print('abcdefcdghcd'.split('cd'))"
   ]
  },
  {
   "cell_type": "code",
   "execution_count": 63,
   "metadata": {},
   "outputs": [
    {
     "name": "stdout",
     "output_type": "stream",
     "text": [
      "False\n"
     ]
    }
   ],
   "source": [
    "print('Hello!2@#World'.istitle())"
   ]
  },
  {
   "cell_type": "code",
   "execution_count": null,
   "metadata": {},
   "outputs": [],
   "source": []
  }
 ],
 "metadata": {
  "kernelspec": {
   "display_name": "Python 3",
   "language": "python",
   "name": "python3"
  },
  "language_info": {
   "codemirror_mode": {
    "name": "ipython",
    "version": 3
   },
   "file_extension": ".py",
   "mimetype": "text/x-python",
   "name": "python",
   "nbconvert_exporter": "python",
   "pygments_lexer": "ipython3",
   "version": "3.8.5"
  }
 },
 "nbformat": 4,
 "nbformat_minor": 4
}
