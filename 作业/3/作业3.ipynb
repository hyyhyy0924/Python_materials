{
 "cells": [
  {
   "cell_type": "markdown",
   "metadata": {},
   "source": [
    "# 作业3 字符串、列表、元组、字典常用方法\n",
    "\n",
    "截止时间：2月28日 周一 23:59\n",
    "\n",
    "提示：请务必运行每个含代码的单元格"
   ]
  },
  {
   "cell_type": "markdown",
   "metadata": {},
   "source": [
    "### 1. 字符串处理"
   ]
  },
  {
   "cell_type": "code",
   "execution_count": 14,
   "metadata": {},
   "outputs": [],
   "source": [
    "# 声明一个字符串\n",
    "name = '老师真的很帅'"
   ]
  },
  {
   "cell_type": "markdown",
   "metadata": {},
   "source": [
    "(1)复制这个字符串以name_copy命名并打印"
   ]
  },
  {
   "cell_type": "code",
   "execution_count": 16,
   "metadata": {},
   "outputs": [],
   "source": []
  },
  {
   "cell_type": "markdown",
   "metadata": {},
   "source": [
    "(2)将name_copy去掉左边的“老师”两个字并保存。打印name_copy\n",
    "\n",
    "示例输出：'真的很帅'"
   ]
  },
  {
   "cell_type": "code",
   "execution_count": null,
   "metadata": {},
   "outputs": [],
   "source": []
  },
  {
   "cell_type": "markdown",
   "metadata": {},
   "source": [
    "(3)将去掉“老师”之后的name_copy前添加“我们班男生”，将这个变量命名为boys。打印boys。\n",
    "\n",
    "示例输出：'我们班男生真的很帅'"
   ]
  },
  {
   "cell_type": "code",
   "execution_count": null,
   "metadata": {},
   "outputs": [],
   "source": []
  },
  {
   "cell_type": "markdown",
   "metadata": {},
   "source": [
    "(4)将(2)中的name_copy变量开头加上'我们班女生'，并且将最后一个字替换成'美'，将这个变量命名为girls。打印girls。\n",
    "\n",
    "示例输出：'我们班女生真的很美'"
   ]
  },
  {
   "cell_type": "code",
   "execution_count": null,
   "metadata": {},
   "outputs": [],
   "source": []
  },
  {
   "cell_type": "markdown",
   "metadata": {},
   "source": [
    "### 2. 字符串搜索测试和替换"
   ]
  },
  {
   "cell_type": "code",
   "execution_count": 7,
   "metadata": {},
   "outputs": [],
   "source": [
    "# 声明一个字符串\n",
    "name2 = '老师真的很帅老师真的很帅老师真的很帅老师真的很帅老师真的很帅老师真的很帅老师真的很帅老师真的很帅老师真的很帅老师真的很帅呀老师真的很帅老师真的很帅老师真的很帅哦'"
   ]
  },
  {
   "cell_type": "markdown",
   "metadata": {},
   "source": [
    "(1)统计name2中'老师真的很帅'一共出现了多少次？"
   ]
  },
  {
   "cell_type": "code",
   "execution_count": null,
   "metadata": {},
   "outputs": [],
   "source": []
  },
  {
   "cell_type": "markdown",
   "metadata": {},
   "source": [
    "(2)name2是否以'哦'结尾？使用代码打印出True/False。"
   ]
  },
  {
   "cell_type": "code",
   "execution_count": null,
   "metadata": {},
   "outputs": [],
   "source": []
  },
  {
   "cell_type": "markdown",
   "metadata": {},
   "source": [
    "(3)把name2中的'很'替换成'不'，并且打印出来。"
   ]
  },
  {
   "cell_type": "code",
   "execution_count": null,
   "metadata": {},
   "outputs": [],
   "source": []
  },
  {
   "cell_type": "markdown",
   "metadata": {},
   "source": [
    "### 3.列表处理"
   ]
  },
  {
   "cell_type": "code",
   "execution_count": 10,
   "metadata": {},
   "outputs": [],
   "source": [
    "# 声明一个列表\n",
    "namelist = ['老','师','不','帅']"
   ]
  },
  {
   "cell_type": "markdown",
   "metadata": {},
   "source": [
    "(1)删除列表中的元素'不'，保存并打印"
   ]
  },
  {
   "cell_type": "code",
   "execution_count": null,
   "metadata": {},
   "outputs": [],
   "source": []
  },
  {
   "cell_type": "markdown",
   "metadata": {},
   "source": [
    "(2)在列表末尾加上'爆',并打印\n",
    "\n",
    "示例输出：['老','师','帅','爆']"
   ]
  },
  {
   "cell_type": "code",
   "execution_count": null,
   "metadata": {},
   "outputs": [],
   "source": [
    "  "
   ]
  },
  {
   "cell_type": "markdown",
   "metadata": {},
   "source": [
    "(3) 清空这个列表      "
   ]
  },
  {
   "cell_type": "code",
   "execution_count": null,
   "metadata": {},
   "outputs": [],
   "source": []
  },
  {
   "cell_type": "markdown",
   "metadata": {},
   "source": [
    "### 4. 列表综合\n",
    "\n",
    "编写Python程序，将给定的列表分为两部分，其中给出了列表第一部分的长度。\n",
    "\n",
    "示例输出：\n",
    "\n",
    "原始列表：\n",
    "\n",
    "[1、1、2、3、4、4、5、1]\n",
    "\n",
    "列表第一部分的长度：3\n",
    "\n",
    "将上述列表分为两部分：\n",
    "\n",
    "[1、1、2] 和 [3、4、4、5、1]"
   ]
  },
  {
   "cell_type": "code",
   "execution_count": null,
   "metadata": {},
   "outputs": [],
   "source": []
  },
  {
   "cell_type": "markdown",
   "metadata": {},
   "source": [
    "### 5. 列表最大/最小值\n",
    "\n",
    "编写Python程序找到列表中第二大的数字\n",
    "（不允许改变原列表）"
   ]
  },
  {
   "cell_type": "code",
   "execution_count": null,
   "metadata": {},
   "outputs": [],
   "source": [
    "#声明一个列表\n",
    "intlist = [1, 1, 1, 0, 0, 0, 2, -2, -2, -3, -5, 1, 3, 5, 6, 7, 8, 0, 2, 5, 6, 7, 4, 9, 1]"
   ]
  },
  {
   "cell_type": "code",
   "execution_count": null,
   "metadata": {},
   "outputs": [],
   "source": []
  }
 ],
 "metadata": {
  "kernelspec": {
   "display_name": "Python 3",
   "language": "python",
   "name": "python3"
  },
  "language_info": {
   "codemirror_mode": {
    "name": "ipython",
    "version": 3
   },
   "file_extension": ".py",
   "mimetype": "text/x-python",
   "name": "python",
   "nbconvert_exporter": "python",
   "pygments_lexer": "ipython3",
   "version": "3.8.5"
  }
 },
 "nbformat": 4,
 "nbformat_minor": 4
}
