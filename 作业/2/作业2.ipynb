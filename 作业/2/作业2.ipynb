{
 "cells": [
  {
   "cell_type": "markdown",
   "metadata": {},
   "source": [
    "# 作业2\n",
    "\n",
    "截止时间：2月27日（周日）23:59\n",
    "\n",
    "\n",
    "1. 从string变量中提取出“老师很帅”并打印"
   ]
  },
  {
   "cell_type": "code",
   "execution_count": null,
   "metadata": {},
   "outputs": [],
   "source": [
    "string = '帅大很小师前老后'\n",
    "#将代码补充完整\n",
    "\n",
    "\n"
   ]
  },
  {
   "cell_type": "markdown",
   "metadata": {},
   "source": [
    "2. 声明一个列表（list），自己随意将一个整数、一个字符串、一个浮点数赋给这个列表\n",
    "打印以下信息：\n",
    "\n",
    "（1） 从这个列表中提取这个整数并且计算它的100次方的值\n",
    "\n",
    "（2） 更换这个列表中位于‘2’号位的元素的值\n",
    "\n",
    "（3） 将这个列表转换成元组并打印"
   ]
  },
  {
   "cell_type": "code",
   "execution_count": null,
   "metadata": {},
   "outputs": [],
   "source": [
    "#（1）\n"
   ]
  },
  {
   "cell_type": "code",
   "execution_count": null,
   "metadata": {},
   "outputs": [],
   "source": [
    "#（2）提示：在同一个Notebook中，之前声明过的变量无需再重复声明\n",
    "\n"
   ]
  },
  {
   "cell_type": "code",
   "execution_count": 1,
   "metadata": {},
   "outputs": [],
   "source": [
    "#（3）\n",
    "\n"
   ]
  },
  {
   "cell_type": "markdown",
   "metadata": {},
   "source": [
    "3.(1)声明一个字典pd，其中包含的键值对为：\"class\": \"计网一班\",\"homework\":2,\"Quantity\":52\n",
    "\n",
    "(2)打印所有的键\n",
    "\n",
    "(3)打印所有的值\n",
    "\n",
    "(4)打印“homework”的值"
   ]
  },
  {
   "cell_type": "code",
   "execution_count": 3,
   "metadata": {},
   "outputs": [],
   "source": [
    "# (1)\n",
    "\n"
   ]
  },
  {
   "cell_type": "code",
   "execution_count": 4,
   "metadata": {},
   "outputs": [],
   "source": [
    "#（2）\n",
    "\n"
   ]
  },
  {
   "cell_type": "code",
   "execution_count": 5,
   "metadata": {},
   "outputs": [],
   "source": [
    "#（3）\n",
    "\n"
   ]
  },
  {
   "cell_type": "code",
   "execution_count": 6,
   "metadata": {},
   "outputs": [],
   "source": [
    "#（4）\n",
    "\n"
   ]
  },
  {
   "cell_type": "markdown",
   "metadata": {},
   "source": [
    "4.编写Python程序，从给定的两边获取直角三角形的第三边\n",
    "\n",
    "不考虑特殊情况，默认两边之和大于第三边"
   ]
  },
  {
   "cell_type": "code",
   "execution_count": null,
   "metadata": {},
   "outputs": [],
   "source": [
    "a = 3\n",
    "b = 4\n",
    "# a,b 为两条直角边，将程序补充完整"
   ]
  }
 ],
 "metadata": {
  "kernelspec": {
   "display_name": "Python 3",
   "language": "python",
   "name": "python3"
  },
  "language_info": {
   "codemirror_mode": {
    "name": "ipython",
    "version": 3
   },
   "file_extension": ".py",
   "mimetype": "text/x-python",
   "name": "python",
   "nbconvert_exporter": "python",
   "pygments_lexer": "ipython3",
   "version": "3.8.5"
  }
 },
 "nbformat": 4,
 "nbformat_minor": 4
}
