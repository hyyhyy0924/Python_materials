{
 "cells": [
  {
   "cell_type": "markdown",
   "metadata": {},
   "source": [
    "# 作业1\n",
    "\n",
    "截止时间 2月24日23:59"
   ]
  },
  {
   "cell_type": "markdown",
   "metadata": {},
   "source": [
    "Q1: 编写Python程序，该程序接受用户输入圆的半径并计算面积，圆周率取3.14"
   ]
  },
  {
   "cell_type": "code",
   "execution_count": 1,
   "metadata": {},
   "outputs": [
    {
     "name": "stdout",
     "output_type": "stream",
     "text": [
      "Input the radius of the circle : 1\n",
      "The area of the circle with radius 1.0 is: 3.14\n"
     ]
    }
   ],
   "source": [
    "r = float(input (\"Input the radius of the circle : \"))\n",
    "print (\"The area of the circle with radius \" + str(r) + \" is: \" + str(3.14 * r**2))"
   ]
  },
  {
   "cell_type": "markdown",
   "metadata": {},
   "source": [
    "Q2: 编写Python程序，以特定格式打印以下字符串（请参阅输出）\n",
    "\n",
    "输出：\n",
    "\n",
    "Twinkle, twinkle, little star,\n",
    "\n",
    "    How I wonder what you are! \n",
    "    \n",
    "\t\tUp above the world so high,  \n",
    "        \n",
    "\t\tLike a diamond in the sky. \n",
    "        \n",
    "Twinkle, twinkle, little star, \n",
    "\n",
    "\tHow I wonder what you are!\n",
    " "
   ]
  },
  {
   "cell_type": "code",
   "execution_count": 2,
   "metadata": {},
   "outputs": [
    {
     "name": "stdout",
     "output_type": "stream",
     "text": [
      "Twinkle, twinkle, little star, \n",
      "\tHow I wonder what you are! \n",
      "\t\tUp above the world so high, \n",
      "\t\tLike a diamond in the sky. \n",
      "Twinkle, twinkle, little star, \n",
      "\tHow I wonder what you are!\n"
     ]
    }
   ],
   "source": [
    "print(\"Twinkle, twinkle, little star, \\n\\t\\\n",
    "How I wonder what you are! \\n\\t\\t\n",
    "Up above the world so high, \\n\\t\\t\\\n",
    "Like a diamond in the sky. \\n\n",
    "Twinkle, twinkle, little star, \\n\\t\\\n",
    "How I wonder what you are!\")\n"
   ]
  },
  {
   "cell_type": "markdown",
   "metadata": {},
   "source": [
    "Q3:编写一个接受用户输入名字和姓氏的Python程序，并以相反的顺序打印它们，并在它们之间留出空格。\n",
    "\n",
    "输出：\n",
    "\n",
    "Please input your first name: Yiyao\n",
    "\n",
    "Please input your last name: Huang\n",
    "\n",
    "Huang Yiyao"
   ]
  },
  {
   "cell_type": "code",
   "execution_count": 4,
   "metadata": {},
   "outputs": [
    {
     "name": "stdout",
     "output_type": "stream",
     "text": [
      "Please Input your First Name : 1\n",
      "Please Input your Last Name : 2\n",
      "2 1\n"
     ]
    }
   ],
   "source": [
    "firstname = input(\"Please Input your First Name : \")\n",
    "lastname = input(\"Please Input your Last Name : \")\n",
    "print (lastname + \" \" + firstname)"
   ]
  },
  {
   "cell_type": "markdown",
   "metadata": {},
   "source": [
    "Q4: 编写一个Python程序，该程序接受用户中逗号分隔的数字序列，并生成包含这些数字的列表和元组。\n",
    "\n",
    "示例如下：\n",
    "\n",
    "输入: 3, 5, 7, 23\n",
    "\n",
    "输出: \n",
    "\n",
    "List : ['3', ' 5', ' 7', ' 23']\n",
    "\n",
    "Tuple : ('3', ' 5', ' 7', ' 23')"
   ]
  },
  {
   "cell_type": "code",
   "execution_count": 5,
   "metadata": {},
   "outputs": [
    {
     "name": "stdout",
     "output_type": "stream",
     "text": [
      "Input some comma seprated numbers : 3,5,7,23\n",
      "List :  ['3', '5', '7', '23']\n",
      "Tuple :  ('3', '5', '7', '23')\n"
     ]
    }
   ],
   "source": [
    "values = input(\"Input some comma seprated numbers : \")\n",
    "valuelist = values.split(\",\")\n",
    "valuetuple = tuple(valuelist)\n",
    "print('List : ',valuelist)\n",
    "print('Tuple : ',valuetuple)"
   ]
  },
  {
   "cell_type": "markdown",
   "metadata": {},
   "source": [
    "Q5: 编写Python程序来计算点（x1，y1）和（x2，y2）之间的距离。"
   ]
  },
  {
   "cell_type": "code",
   "execution_count": 13,
   "metadata": {},
   "outputs": [
    {
     "name": "stdout",
     "output_type": "stream",
     "text": [
      "6.324555320336759\n"
     ]
    }
   ],
   "source": [
    "p1 = [4, 0]\n",
    "p2 = [6, 6]\n",
    "distance = (((p1[0]-p2[0])**2)+((p1[1]-p2[1])**2))** 0.5\n",
    "\n",
    "print(distance)\n"
   ]
  },
  {
   "cell_type": "code",
   "execution_count": null,
   "metadata": {},
   "outputs": [],
   "source": []
  }
 ],
 "metadata": {
  "kernelspec": {
   "display_name": "Python 3",
   "language": "python",
   "name": "python3"
  },
  "language_info": {
   "codemirror_mode": {
    "name": "ipython",
    "version": 3
   },
   "file_extension": ".py",
   "mimetype": "text/x-python",
   "name": "python",
   "nbconvert_exporter": "python",
   "pygments_lexer": "ipython3",
   "version": "3.8.5"
  }
 },
 "nbformat": 4,
 "nbformat_minor": 4
}
