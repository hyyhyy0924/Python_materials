{
 "cells": [
  {
   "cell_type": "markdown",
   "metadata": {},
   "source": [
    "# Lecture 3 Python 基础知识"
   ]
  },
  {
   "cell_type": "markdown",
   "metadata": {},
   "source": [
    "## Python语法\n",
    "\n",
    "Python 程序由解析器读取。Python 被设计成一种高度可读的语言。Python 编程语言的语法是定义如何编写 Python 程序的一组规则\n",
    "Python 行结构：\n",
    "一个 Python 程序被分成许多逻辑行，每个逻辑行都以 NEWLINE 标记结束。一条逻辑线路由一条或多条物理线路创建。\n",
    "一行只包含空格、制表符、可能是注释的换页符，称为空行，Python 解释器会忽略它。参阅以下示例。"
   ]
  },
  {
   "cell_type": "code",
   "execution_count": 4,
   "metadata": {},
   "outputs": [
    {
     "name": "stdout",
     "output_type": "stream",
     "text": [
      "These three lines are Physical/Logical Lines\n"
     ]
    }
   ],
   "source": [
    "x = 1\n",
    "if x > 0:\n",
    "    print(\"These three lines are Physical/Logical Lines\")"
   ]
  },
  {
   "cell_type": "code",
   "execution_count": 5,
   "metadata": {},
   "outputs": [
    {
     "name": "stdout",
     "output_type": "stream",
     "text": [
      "1\n"
     ]
    }
   ],
   "source": []
  },
  {
   "cell_type": "markdown",
   "metadata": {},
   "source": [
    "## Python注释\n",
    "\n",
    "注释以散列字符 (#) 开头，它不是字符串文字的一部分，并在物理行的末尾结束。# 字符之后直到行尾的所有字符都是注释的一部分，Python 解释器会忽略它们。参阅以下示例。"
   ]
  },
  {
   "cell_type": "code",
   "execution_count": 20,
   "metadata": {},
   "outputs": [
    {
     "name": "stdout",
     "output_type": "stream",
     "text": [
      "These three lines are Physical/Logical Lines\n"
     ]
    }
   ],
   "source": [
    "x = 1\n",
    "#The initial value of x is 1.\n",
    "if x > 0:\n",
    "    print(\"These three lines are Physical/Logical Lines\")"
   ]
  },
  {
   "cell_type": "markdown",
   "metadata": {},
   "source": [
    "## 连接两行   \n",
    "\n",
    "\n",
    "当你想在一行中编写长代码时，您可以使用反斜杠字符 (\\\\) 将逻辑行分成两行或多行物理行。因此，当物理行以反斜杠字符（\\）结尾而不是字符串文字或注释的一部分时，它可以加入另一个物理行。参阅以下示例。"
   ]
  },
  {
   "cell_type": "code",
   "execution_count": 4,
   "metadata": {},
   "outputs": [
    {
     "name": "stdout",
     "output_type": "stream",
     "text": [
      "This is an example of line joining\n"
     ]
    }
   ],
   "source": [
    "u = 0\n",
    "v = 1\n",
    "w = 2\n",
    "x = 3\n",
    "y = 4\n",
    "z = 5\n",
    "if u==0 and v>0 \\\n",
    "  and w>1 and x>2 \\\n",
    "  and y>3 and z>4:\n",
    "    print(\"This is an example of line joining\")"
   ]
  },
  {
   "cell_type": "markdown",
   "metadata": {},
   "source": [
    "## 单行上的多个语句\n",
    "\n",
    "可以在两行之间使用分号 (;) 将两个单独的语句写入一行。参阅以下示例。"
   ]
  },
  {
   "cell_type": "code",
   "execution_count": 5,
   "metadata": {},
   "outputs": [
    {
     "name": "stdout",
     "output_type": "stream",
     "text": [
      "Statement1\n",
      "Statement2\n",
      "Statement1\n",
      "Statement2\n"
     ]
    }
   ],
   "source": [
    "print(\"Statement1\")\n",
    "print(\"Statement2\")\n",
    "\n",
    "#You can write above two statements in the following way\n",
    "\n",
    "print(\"Statement1\");print(\"Statement2\")"
   ]
  },
  {
   "cell_type": "markdown",
   "metadata": {},
   "source": [
    "## 缩进\n",
    "\n",
    "Python 使用空格（空格和制表符）来定义程序块，而 C、C++ 等其他语言使用大括号 ({}) 来表示类、函数或流控制的代码块。缩进中的空格（空格和制表符）的数量不是固定的，但是块中的所有语句必须缩进相同的数量。在下面的程序中，块语句没有缩进。"
   ]
  },
  {
   "cell_type": "code",
   "execution_count": 6,
   "metadata": {},
   "outputs": [
    {
     "ename": "IndentationError",
     "evalue": "expected an indented block (<ipython-input-6-1994eb38a382>, line 3)",
     "output_type": "error",
     "traceback": [
      "\u001b[0;36m  File \u001b[0;32m\"<ipython-input-6-1994eb38a382>\"\u001b[0;36m, line \u001b[0;32m3\u001b[0m\n\u001b[0;31m    print(\"This statement has no Indentation\")\u001b[0m\n\u001b[0m    ^\u001b[0m\n\u001b[0;31mIndentationError\u001b[0m\u001b[0;31m:\u001b[0m expected an indented block\n"
     ]
    }
   ],
   "source": [
    "x = 1\n",
    "if x>0:\n",
    "print(\"This statement has no Indentation\")\n",
    "print(\"This statement has no Indentation\")"
   ]
  },
  {
   "cell_type": "markdown",
   "metadata": {},
   "source": [
    "这是一个带有单个空格缩进的程序。"
   ]
  },
  {
   "cell_type": "code",
   "execution_count": 7,
   "metadata": {},
   "outputs": [
    {
     "name": "stdout",
     "output_type": "stream",
     "text": [
      "This statement has no Indentation\n",
      "This statement has no Indentation\n"
     ]
    }
   ],
   "source": [
    "x = 1\n",
    "if x>0:\n",
    " print(\"This statement has no Indentation\")\n",
    " print(\"This statement has no Indentation\")"
   ]
  },
  {
   "cell_type": "markdown",
   "metadata": {},
   "source": [
    "这是一个带有单个制表符（Tab）缩进的程序。"
   ]
  },
  {
   "cell_type": "code",
   "execution_count": 8,
   "metadata": {},
   "outputs": [
    {
     "name": "stdout",
     "output_type": "stream",
     "text": [
      "This statement has no Indentation\n",
      "This statement has no Indentation\n"
     ]
    }
   ],
   "source": [
    "x = 1\n",
    "if x>0:\n",
    "    print(\"This statement has no Indentation\")\n",
    "    print(\"This statement has no Indentation\")"
   ]
  },
  {
   "cell_type": "markdown",
   "metadata": {},
   "source": [
    "### Python 编码风格\n",
    "\n",
    "每个缩进使用 4 个空格，并且没有制表符。制表符缩进在不同的操作系统上，或者不同的编辑器里缩进的效果可能不一样，容易产生异常错误\n",
    "不要混合制表符和空格。制表符会造成混乱，建议仅使用空格。\n",
    "最大行长：79 个字符，帮助用户使用小显示器。\n",
    "使用空行分隔顶级函数和类定义，使用单个空行分隔类内的方法定义和函数内的较大代码块。\n",
    "如果可能，请放置内联注释（应该是完整的句子）。\n",
    "在表达式和语句周围使用空格。\n"
   ]
  },
  {
   "cell_type": "markdown",
   "metadata": {},
   "source": [
    "## Python 保留词\n",
    "\n",
    "以下标识符用作语言的保留字，不能用作普通标识符。\n",
    "\n",
    "False class finally is return None continue for lambda try True def from nonlocal while and del global not with as el if or yield assert else\n",
    "import pass break except in raise"
   ]
  },
  {
   "cell_type": "markdown",
   "metadata": {},
   "source": [
    "## Python变量\n",
    "\n",
    "变量是开发者可以存储值的内存位置。示例：roll_no, amount, name等。\n",
    "\n",
    "值可以是字符串、数字等。示例：“Sara”、120、25.36\n",
    "\n",
    "变量是在第一次分配时创建的。\n",
    "\n",
    "变量必须在被引用之前赋值。\n",
    "\n",
    "存储在变量中的值可以稍后访问或更新。\n",
    "\n",
    "无需声明变量的类型（string、int、float 等）由 Python 确定解释器根据变量的数据类型分配内存。"
   ]
  },
  {
   "cell_type": "markdown",
   "metadata": {},
   "source": [
    "## Python 变量名规则\n",
    "\n",
    "必须以字母 (a - z, A - Z) 或下划线 (_) 开头\n",
    "\n",
    "其他字符可以是字母、数字或_\n",
    "\n",
    "区分大小写\n",
    "\n",
    "可以是任何（合理的）长度\n",
    "\n",
    "有些保留字不能用作变量名，因为 Python 将它们用于其他用途。\n"
   ]
  },
  {
   "cell_type": "markdown",
   "metadata": {},
   "source": [
    "## 好的变量名\n",
    "\n",
    "选择有意义的名称而不是短名称。roll_no 比 rn 好。\n",
    "\n",
    "保持变量名的长度。Roll_no_of_a-student 太长了\n",
    "\n",
    "始终如一; roll_no 或 RollNo\n",
    "\n",
    "对于特殊情况，以下划线 (_) 字符开头的变量名。"
   ]
  },
  {
   "cell_type": "markdown",
   "metadata": {},
   "source": [
    "## Python 赋值语句\n",
    "\n",
    "赋值语句创建新变量并赋予它们值。Python中的基本赋值语句是：\n",
    "\n",
    "句法：<变量> = <表达式>\n",
    "\n",
    "其中等号 (=) 用于将值（右侧）分配给变量名称（左侧）。\n"
   ]
  },
  {
   "cell_type": "code",
   "execution_count": 9,
   "metadata": {},
   "outputs": [
    {
     "name": "stdout",
     "output_type": "stream",
     "text": [
      "Computer\n",
      "10\n",
      "1000.23\n"
     ]
    }
   ],
   "source": [
    "Item_name = \"Computer\" #A 字符串\n",
    "Item_qty = 10 #An 整数\n",
    "Item_value = 1000.23 #A 浮点数\n",
    "\n",
    "print(Item_name)\n",
    "print(Item_qty)\n",
    "print(Item_value)"
   ]
  },
  {
   "cell_type": "markdown",
   "metadata": {},
   "source": [
    "## 多重赋值\n",
    "基本赋值语句适用于单个变量和单个表达式。还可以同时为多个变量分配一个值。\n",
    "\n",
    "句法：var1=var2=var3...varn= = <表达式>\n"
   ]
  },
  {
   "cell_type": "code",
   "execution_count": 10,
   "metadata": {},
   "outputs": [
    {
     "name": "stdout",
     "output_type": "stream",
     "text": [
      "1\n",
      "1\n",
      "1\n"
     ]
    }
   ],
   "source": [
    "x = y = z = 1\n",
    "\n",
    "print(x)\n",
    "print(y)\n",
    "print(z)"
   ]
  },
  {
   "cell_type": "markdown",
   "metadata": {},
   "source": [
    "另一个赋值语句，其中变量同时分配了许多值。\n",
    "\n",
    "var, var, ..., var = expr, expr, ..., expr\n"
   ]
  },
  {
   "cell_type": "code",
   "execution_count": 11,
   "metadata": {},
   "outputs": [
    {
     "name": "stdout",
     "output_type": "stream",
     "text": [
      "1\n",
      "2.1234\n",
      "abcd\n"
     ]
    }
   ],
   "source": [
    "x, y, z = 1, 2.1234, \"abcd\"\n",
    "\n",
    "print(x)\n",
    "print(y)\n",
    "print(z)"
   ]
  },
  {
   "cell_type": "markdown",
   "metadata": {},
   "source": [
    "## 交换变量\n",
    "\n",
    "Python 在一行中交换值，这适用于 python 中的所有对象。\n",
    "句法：var1, var2 = var2, var1"
   ]
  },
  {
   "cell_type": "code",
   "execution_count": 12,
   "metadata": {},
   "outputs": [
    {
     "name": "stdout",
     "output_type": "stream",
     "text": [
      "10\n",
      "20\n",
      "20\n",
      "10\n"
     ]
    }
   ],
   "source": [
    "x = 10\n",
    "y = 20\n",
    "\n",
    "print(x)\n",
    "print(y)\n",
    "\n",
    "x, y = y, x\n",
    "print(x)\n",
    "print(y)"
   ]
  },
  {
   "cell_type": "markdown",
   "metadata": {},
   "source": [
    "## Python中的局部变量和全局变量\n",
    "\n",
    "在 Python 中，仅在函数内部引用的变量是隐式全局的。如果一个变量在函数体内的任何地方都被赋值，除非明确声明为全局变量，否则它被假定为局部变量。"
   ]
  },
  {
   "cell_type": "code",
   "execution_count": 10,
   "metadata": {},
   "outputs": [
    {
     "name": "stdout",
     "output_type": "stream",
     "text": [
      "In side func1() var1 =  PHP\n",
      "In side func2() var1 =  Python\n"
     ]
    }
   ],
   "source": [
    "var1 = \"Python\"\n",
    "def func1():\n",
    "    var1 = \"PHP\"\n",
    "    print(\"In side func1() var1 = \",var1)\n",
    "\n",
    "def func2():\n",
    "    print(\"In side func2() var1 = \",var1)\n",
    "func1()\n",
    "func2()"
   ]
  },
  {
   "cell_type": "markdown",
   "metadata": {},
   "source": [
    "可以通过将全局变量声明为全局关键字来在其他函数中使用它："
   ]
  },
  {
   "cell_type": "code",
   "execution_count": 13,
   "metadata": {},
   "outputs": [
    {
     "name": "stdout",
     "output_type": "stream",
     "text": [
      "In side func1() var1 =  PHP\n",
      "In side func2() var1 =  PHP\n"
     ]
    }
   ],
   "source": [
    "def func1():\n",
    "    global var1\n",
    "    var1 = \"PHP\"\n",
    "    print(\"In side func1() var1 = \",var1)\n",
    "\n",
    "def func2():\n",
    "    print(\"In side func2() var1 = \",var1)\n",
    "func1()\n",
    "func2()"
   ]
  },
  {
   "cell_type": "markdown",
   "metadata": {},
   "source": [
    "## Python 数据类型\n",
    "\n",
    "类型表示值的种类，并确定如何使用该值。Python 中的所有数据值都封装在相关的对象类中。Python 中的一切都是一个对象，每个对象都有一个标识、一个类型和一个值。与另一种面向对象的语言（如 Java 或 C++）一样，Python 中内置了多种数据类型。用 C、Java 或其他语言编写的扩展模块可以定义其他类型。\n",
    "\n",
    "要确定 Python 中变量的类型，可以使用 type() 函数。某些对象的值可以更改。值可以更改的对象称为可变对象，值不可更改（一旦创建）的对象称为不可变对象。\n",
    "\n"
   ]
  },
  {
   "cell_type": "markdown",
   "metadata": {},
   "source": [
    "## 数字\n",
    "\n",
    "数字是由数字文字创建的。数值对象是不可变的，这意味着当一个对象被创建时，它的值不能改变。\n",
    "\n",
    "Python 具有三种不同的数字类型：整数、浮点数和复数。整数表示没有小数部分的负整数和正整数，而浮点数表示有小数部分的负数和正数。此外，布尔值是普通整数的子类型。"
   ]
  },
  {
   "cell_type": "code",
   "execution_count": 14,
   "metadata": {},
   "outputs": [
    {
     "name": "stdout",
     "output_type": "stream",
     "text": [
      "<class 'int'>\n",
      "<class 'int'>\n",
      "<class 'int'>\n",
      "<class 'float'>\n",
      "<class 'float'>\n",
      "<class 'float'>\n",
      "<class 'float'>\n",
      "<class 'float'>\n"
     ]
    }
   ],
   "source": [
    "a=1252\n",
    "print(type(a))\n",
    "b=(-4587)\n",
    "print(type(b))\n",
    "c=0\n",
    "print(type(c))\n",
    "\n",
    "g=1.03\n",
    "print(type(g))\n",
    "h=-11.23\n",
    "print(type(h))\n",
    "i=.34\n",
    "print(type(i))\n",
    "j=2.12e-10\n",
    "print(type(j))\n",
    "k=5E220\n",
    "print(type(k))\n"
   ]
  },
  {
   "cell_type": "markdown",
   "metadata": {},
   "source": [
    "### 浮点数和整数"
   ]
  },
  {
   "cell_type": "code",
   "execution_count": 13,
   "metadata": {},
   "outputs": [
    {
     "name": "stdout",
     "output_type": "stream",
     "text": [
      "15\n",
      "1\n",
      "1.1428571428571428\n",
      "56\n"
     ]
    }
   ],
   "source": [
    "x = 8\n",
    "y = 7\n",
    "print(x+y)\n",
    "print(x-y)\n",
    "print(x/y)\n",
    "print(x*y)"
   ]
  },
  {
   "cell_type": "markdown",
   "metadata": {},
   "source": [
    "### 指数"
   ]
  },
  {
   "cell_type": "code",
   "execution_count": 14,
   "metadata": {},
   "outputs": [
    {
     "name": "stdout",
     "output_type": "stream",
     "text": [
      "64\n",
      "81\n"
     ]
    }
   ],
   "source": [
    "print(4**3)\n",
    "print(3**4)"
   ]
  },
  {
   "cell_type": "markdown",
   "metadata": {},
   "source": [
    "### 除法"
   ]
  },
  {
   "cell_type": "code",
   "execution_count": 15,
   "metadata": {},
   "outputs": [
    {
     "name": "stdout",
     "output_type": "stream",
     "text": [
      "4.0\n",
      "16\n",
      "5\n"
     ]
    }
   ],
   "source": [
    "print(12/3)\n",
    "print(64//4)\n",
    "print(15//3)"
   ]
  },
  {
   "cell_type": "markdown",
   "metadata": {},
   "source": [
    "### 余数"
   ]
  },
  {
   "cell_type": "code",
   "execution_count": 16,
   "metadata": {},
   "outputs": [
    {
     "data": {
      "text/plain": [
       "3"
      ]
     },
     "execution_count": 16,
     "metadata": {},
     "output_type": "execute_result"
    }
   ],
   "source": [
    "15 % 4"
   ]
  },
  {
   "cell_type": "markdown",
   "metadata": {},
   "source": [
    "### 自我分配\n",
    "\n"
   ]
  },
  {
   "cell_type": "code",
   "execution_count": 17,
   "metadata": {},
   "outputs": [
    {
     "data": {
      "text/plain": [
       "2"
      ]
     },
     "execution_count": 17,
     "metadata": {},
     "output_type": "execute_result"
    }
   ],
   "source": [
    "count = 0\n",
    "count +=2\n",
    "count"
   ]
  },
  {
   "cell_type": "code",
   "execution_count": 18,
   "metadata": {},
   "outputs": [
    {
     "data": {
      "text/plain": [
       "8"
      ]
     },
     "execution_count": 18,
     "metadata": {},
     "output_type": "execute_result"
    }
   ],
   "source": [
    "count = 0\n",
    "count +=2\n",
    "count *=4\n",
    "count"
   ]
  },
  {
   "cell_type": "code",
   "execution_count": 19,
   "metadata": {},
   "outputs": [
    {
     "data": {
      "text/plain": [
       "4096"
      ]
     },
     "execution_count": 19,
     "metadata": {},
     "output_type": "execute_result"
    }
   ],
   "source": [
    "count **=4\n",
    "count"
   ]
  },
  {
   "cell_type": "code",
   "execution_count": 20,
   "metadata": {},
   "outputs": [
    {
     "data": {
      "text/plain": [
       "1024.0"
      ]
     },
     "execution_count": 20,
     "metadata": {},
     "output_type": "execute_result"
    }
   ],
   "source": [
    "count /=4\n",
    "count"
   ]
  },
  {
   "cell_type": "code",
   "execution_count": 21,
   "metadata": {},
   "outputs": [
    {
     "data": {
      "text/plain": [
       "256.0"
      ]
     },
     "execution_count": 21,
     "metadata": {},
     "output_type": "execute_result"
    }
   ],
   "source": [
    "count //=4\n",
    "count"
   ]
  },
  {
   "cell_type": "code",
   "execution_count": 22,
   "metadata": {},
   "outputs": [
    {
     "data": {
      "text/plain": [
       "7.0"
      ]
     },
     "execution_count": 22,
     "metadata": {},
     "output_type": "execute_result"
    }
   ],
   "source": [
    "15.0//2"
   ]
  },
  {
   "cell_type": "markdown",
   "metadata": {},
   "source": [
    "### 操作顺序"
   ]
  },
  {
   "cell_type": "code",
   "execution_count": 23,
   "metadata": {},
   "outputs": [
    {
     "name": "stdout",
     "output_type": "stream",
     "text": [
      "5.0\n",
      "3.0\n"
     ]
    }
   ],
   "source": [
    "print((3+12) / 3)\n",
    "print(15 / (3 + 2))"
   ]
  },
  {
   "cell_type": "markdown",
   "metadata": {},
   "source": [
    "## 布尔值（bool）\n",
    "\n",
    "Python 中最简单的内置类型是 bool 类型，它表示真值 False 和 True。"
   ]
  },
  {
   "cell_type": "code",
   "execution_count": 1,
   "metadata": {},
   "outputs": [
    {
     "name": "stdout",
     "output_type": "stream",
     "text": [
      "<class 'bool'>\n",
      "<class 'bool'>\n"
     ]
    }
   ],
   "source": [
    "x = True\n",
    "print(type(x))\n",
    "\n",
    "y = False\n",
    "print(type(y))"
   ]
  },
  {
   "cell_type": "markdown",
   "metadata": {},
   "source": [
    "## 字符串"
   ]
  },
  {
   "cell_type": "markdown",
   "metadata": {},
   "source": [
    "在 Python 中，字符串类型对象是一个字符序列（从左到右的顺序）。字符串以单引号或双引号开始和结束 Python 字符串是不可变的。单引号和双引号字符串是相同的，当它被双引号包围时，您可以在字符串中使用单引号，反之亦然。声明一个字符串很简单，请参见以下语句。"
   ]
  },
  {
   "cell_type": "code",
   "execution_count": 2,
   "metadata": {},
   "outputs": [
    {
     "name": "stdout",
     "output_type": "stream",
     "text": [
      "String\n",
      "String\n"
     ]
    }
   ],
   "source": [
    "s1 = \"String\" #Strings start and end with double quotes\n",
    "print(s1)\n",
    "\n",
    "s2 = 'String' #Strings start and end with Single quotes\n",
    "print(s2)"
   ]
  },
  {
   "cell_type": "code",
   "execution_count": 3,
   "metadata": {},
   "outputs": [
    {
     "ename": "SyntaxError",
     "evalue": "EOL while scanning string literal (<ipython-input-3-a685e0b513a7>, line 1)",
     "output_type": "error",
     "traceback": [
      "\u001b[0;36m  File \u001b[0;32m\"<ipython-input-3-a685e0b513a7>\"\u001b[0;36m, line \u001b[0;32m1\u001b[0m\n\u001b[0;31m    s3 = \"String'\u001b[0m\n\u001b[0m                  ^\u001b[0m\n\u001b[0;31mSyntaxError\u001b[0m\u001b[0;31m:\u001b[0m EOL while scanning string literal\n"
     ]
    }
   ],
   "source": [
    "s3 = \"String' \n",
    "#Strings start with double quotes and end with Single quotes\n",
    "print(s3)"
   ]
  },
  {
   "cell_type": "code",
   "execution_count": 4,
   "metadata": {},
   "outputs": [
    {
     "ename": "SyntaxError",
     "evalue": "EOL while scanning string literal (<ipython-input-4-f25b18ffef37>, line 1)",
     "output_type": "error",
     "traceback": [
      "\u001b[0;36m  File \u001b[0;32m\"<ipython-input-4-f25b18ffef37>\"\u001b[0;36m, line \u001b[0;32m1\u001b[0m\n\u001b[0;31m    s4 = 'String\"\u001b[0m\n\u001b[0m                  ^\u001b[0m\n\u001b[0;31mSyntaxError\u001b[0m\u001b[0;31m:\u001b[0m EOL while scanning string literal\n"
     ]
    }
   ],
   "source": [
    "s4 = 'String\" \n",
    "#Strings start with Single quotes and end with Double quotes\n",
    "print(s4)"
   ]
  },
  {
   "cell_type": "code",
   "execution_count": 5,
   "metadata": {},
   "outputs": [
    {
     "name": "stdout",
     "output_type": "stream",
     "text": [
      "Day's\n"
     ]
    }
   ],
   "source": [
    "s5 = \"Day's\" \n",
    "#Single quote within Single quotes\n",
    "print(s5)"
   ]
  },
  {
   "cell_type": "code",
   "execution_count": 6,
   "metadata": {},
   "outputs": [
    {
     "name": "stdout",
     "output_type": "stream",
     "text": [
      "Day\"s\n"
     ]
    }
   ],
   "source": [
    "s5 = 'Day\"s'\n",
    "#Double quote within Single quotes\n",
    "print(s5)"
   ]
  },
  {
   "attachments": {
    "image.png": {
     "image/png": "[encoded data removed]"
    }
   },
   "cell_type": "markdown",
   "metadata": {},
   "source": [
    "### 字符串中的特殊字符\n",
    "\n",
    "反斜杠 (\\) 字符用于引入特殊字符。\n",
    "\n",
    "![image.png](attachment:image.png)"
   ]
  },
  {
   "cell_type": "code",
   "execution_count": 29,
   "metadata": {},
   "outputs": [
    {
     "name": "stdout",
     "output_type": "stream",
     "text": [
      "This is a backslash (\\) nark.\n",
      "This is tab \t key\n",
      "These are 'single quotes'\n",
      "These are \"double quotes\"\n",
      "This is a new line\n",
      "New line\n"
     ]
    }
   ],
   "source": [
    "print(\"This is a backslash (\\\\) nark.\")\n",
    "print(\"This is tab \\t key\")\n",
    "print(\"These are \\'single quotes\\'\")\n",
    "print(\"These are \\\"double quotes\\\"\")\n",
    "print(\"This is a new line\\nNew line\")"
   ]
  },
  {
   "attachments": {
    "image.png": {
     "image/png": "[encoded data removed]"
    }
   },
   "cell_type": "markdown",
   "metadata": {},
   "source": [
    "### 字符串索引和访问字符串元素\n",
    "\n",
    "字符串是字符数组，可以使用索引访问数组的元素。索引从左侧开始为 0，从右侧开始时为 -1。\n",
    "\n",
    "![image.png](attachment:image.png)\n",
    "\n",
    "参阅以下语句以从不同位置访问单个字符。"
   ]
  },
  {
   "cell_type": "code",
   "execution_count": 30,
   "metadata": {},
   "outputs": [
    {
     "name": "stdout",
     "output_type": "stream",
     "text": [
      "P\n",
      "P\n",
      "L\n",
      "L\n",
      "O\n",
      "O\n"
     ]
    }
   ],
   "source": [
    "string1 =\"PYTHON TUTORIAL\"\n",
    "print(string1[0]) # Print first character\n",
    "print(string1[-15]) # Print first character\n",
    "print(string1[14]) # Print last character\n",
    "print(string1[-1]) # Print last character\n",
    "print(string1[4])# Print 4th character\n",
    "print(string1[-11])# Print 4th character"
   ]
  },
  {
   "cell_type": "code",
   "execution_count": 31,
   "metadata": {},
   "outputs": [
    {
     "ename": "IndexError",
     "evalue": "string index out of range",
     "output_type": "error",
     "traceback": [
      "\u001b[1;31m---------------------------------------------------------------------------\u001b[0m",
      "\u001b[1;31mIndexError\u001b[0m                                Traceback (most recent call last)",
      "\u001b[1;32m<ipython-input-31-5b79da291a4d>\u001b[0m in \u001b[0;36m<module>\u001b[1;34m\u001b[0m\n\u001b[1;32m----> 1\u001b[1;33m \u001b[0mprint\u001b[0m\u001b[1;33m(\u001b[0m\u001b[0mstring1\u001b[0m\u001b[1;33m[\u001b[0m\u001b[1;36m16\u001b[0m\u001b[1;33m]\u001b[0m\u001b[1;33m)\u001b[0m\u001b[1;31m# Out of range\u001b[0m\u001b[1;33m\u001b[0m\u001b[1;33m\u001b[0m\u001b[0m\n\u001b[0m",
      "\u001b[1;31mIndexError\u001b[0m: string index out of range"
     ]
    }
   ],
   "source": [
    "print(string1[16])# Out of range"
   ]
  },
  {
   "cell_type": "markdown",
   "metadata": {},
   "source": [
    "### 字符串是不可变的\n",
    "\n",
    "字符串是不可变的字符集。生成字符串后，不能更改字符串中的任何字符。"
   ]
  },
  {
   "cell_type": "code",
   "execution_count": 32,
   "metadata": {},
   "outputs": [
    {
     "ename": "TypeError",
     "evalue": "'str' object does not support item assignment",
     "output_type": "error",
     "traceback": [
      "\u001b[1;31m---------------------------------------------------------------------------\u001b[0m",
      "\u001b[1;31mTypeError\u001b[0m                                 Traceback (most recent call last)",
      "\u001b[1;32m<ipython-input-32-fc7f85ad46ff>\u001b[0m in \u001b[0;36m<module>\u001b[1;34m\u001b[0m\n\u001b[1;32m----> 1\u001b[1;33m \u001b[0mstring1\u001b[0m\u001b[1;33m[\u001b[0m\u001b[1;36m0\u001b[0m\u001b[1;33m]\u001b[0m \u001b[1;33m=\u001b[0m \u001b[1;34m'A'\u001b[0m\u001b[1;33m\u001b[0m\u001b[1;33m\u001b[0m\u001b[0m\n\u001b[0m",
      "\u001b[1;31mTypeError\u001b[0m: 'str' object does not support item assignment"
     ]
    }
   ],
   "source": [
    "string1[0] = 'A'"
   ]
  },
  {
   "cell_type": "markdown",
   "metadata": {},
   "source": [
    "### 字符串中的“in”运算符\n",
    "'in' 运算符用于检查字符串中是否存在字符或子字符串。该表达式返回一个布尔值。\n"
   ]
  },
  {
   "cell_type": "code",
   "execution_count": 33,
   "metadata": {},
   "outputs": [
    {
     "data": {
      "text/plain": [
       "False"
      ]
     },
     "execution_count": 33,
     "metadata": {},
     "output_type": "execute_result"
    }
   ],
   "source": [
    "'Z' in string1"
   ]
  },
  {
   "cell_type": "code",
   "execution_count": 34,
   "metadata": {},
   "outputs": [
    {
     "data": {
      "text/plain": [
       "True"
      ]
     },
     "execution_count": 34,
     "metadata": {},
     "output_type": "execute_result"
    }
   ],
   "source": [
    "'P' in string1"
   ]
  },
  {
   "cell_type": "code",
   "execution_count": 35,
   "metadata": {},
   "outputs": [
    {
     "data": {
      "text/plain": [
       "True"
      ]
     },
     "execution_count": 35,
     "metadata": {},
     "output_type": "execute_result"
    }
   ],
   "source": [
    "'TUT' in string1"
   ]
  },
  {
   "attachments": {
    "image.png": {
     "image/png": "[encoded data removed]"
    }
   },
   "cell_type": "markdown",
   "metadata": {},
   "source": [
    "### 字符串切片\n",
    " \n",
    "从字符串中剪切子字符串称为字符串切片。这里使用了两个索引，用冒号 ( : ) 分隔。切片 2:5 表示第 2、第 3 和第 4 个位置的索引字符。不包括第二个整数索引，即 5。也可以使用负索引进行切片。\n",
    "![image.png](attachment:image.png)"
   ]
  },
  {
   "cell_type": "code",
   "execution_count": 36,
   "metadata": {},
   "outputs": [
    {
     "data": {
      "text/plain": [
       "'tho'"
      ]
     },
     "execution_count": 36,
     "metadata": {},
     "output_type": "execute_result"
    }
   ],
   "source": [
    "\"Python\"[2:5]"
   ]
  },
  {
   "cell_type": "markdown",
   "metadata": {},
   "source": [
    "加号（+）是字符串连接运算符，星号（*）是重复操作。"
   ]
  },
  {
   "cell_type": "code",
   "execution_count": 38,
   "metadata": {},
   "outputs": [
    {
     "name": "stdout",
     "output_type": "stream",
     "text": [
      "Hello World!\n",
      "H\n",
      "llo\n",
      "llo World!\n",
      "Hello World!Hello World!\n",
      "Hello World!TEST\n"
     ]
    }
   ],
   "source": [
    "s6 = 'Hello World!'\n",
    " \n",
    "print (s6)           # 输出完整字符串\n",
    "print (s6[0])        # 输出字符串中的第一个字符\n",
    "print (s6[2:5])      # 输出字符串中第三个至第六个之间的字符串\n",
    "print (s6[2:])       # 输出从第三个字符开始的字符串\n",
    "print (s6 * 2)       # 输出字符串两次\n",
    "print (s6 + \"TEST\")  # 输出连接的字符串\n"
   ]
  },
  {
   "attachments": {
    "image.png": {
     "image/png": "[encoded data removed]"
    }
   },
   "cell_type": "markdown",
   "metadata": {},
   "source": [
    "### 字符串切片\n",
    "Python 列表截取可以接收第三个参数，参数作用是截取的步长，以下实例在索引 1 到索引 4 的位置并设置为步长为 2（间隔一个位置）来截取字符串：\n",
    "\n",
    "![image.png](attachment:image.png)"
   ]
  },
  {
   "cell_type": "code",
   "execution_count": 39,
   "metadata": {},
   "outputs": [
    {
     "data": {
      "text/plain": [
       "'hc'"
      ]
     },
     "execution_count": 39,
     "metadata": {},
     "output_type": "execute_result"
    }
   ],
   "source": [
    "letters = 'checkio'\n",
    "letters[1:4:2]"
   ]
  },
  {
   "cell_type": "code",
   "execution_count": null,
   "metadata": {},
   "outputs": [],
   "source": []
  },
  {
   "cell_type": "markdown",
   "metadata": {},
   "source": [
    "### 转换"
   ]
  },
  {
   "cell_type": "code",
   "execution_count": 40,
   "metadata": {},
   "outputs": [
    {
     "name": "stdout",
     "output_type": "stream",
     "text": [
      "4.5\n",
      "25\n",
      "5\n",
      "6.0\n",
      "1\n",
      "0.0\n",
      "True\n",
      "False\n",
      "True\n",
      "True\n"
     ]
    }
   ],
   "source": [
    "print(float(\"4.5\"))\n",
    "print(int(\"25\"))\n",
    "print(int(5.625))\n",
    "print(float(6))\n",
    "print(int(True))\n",
    "print(float(False))\n",
    "print(str(True))\n",
    "print(bool(0))\n",
    "print(bool('Hello world'))\n",
    "print(bool(223.5))\n"
   ]
  },
  {
   "cell_type": "markdown",
   "metadata": {},
   "source": [
    "## 列表（List）\n",
    "\n",
    "列表是一个容器，它在方括号之间保存逗号分隔的值（项目或元素），其中项目或元素不必都具有相同的类型。\n",
    "\n",
    "List（列表） 是 Python 中使用最频繁的数据类型。\n",
    "\n",
    "列表可以完成大多数集合类的数据结构实现。它支持字符，数字，字符串甚至可以包含列表（即嵌套）。\n",
    "\n",
    "列表用 [ ] 标识，是 python 最通用的复合数据类型。\n",
    "\n",
    "列表中值的切割也可以用到变量 [头下标:尾下标] ，就可以截取相应的列表，从左到右索引默认 0 开始，从右到左索引默认 -1 开始，下标可以为空表示取到头或尾。\n"
   ]
  },
  {
   "cell_type": "markdown",
   "metadata": {},
   "source": [
    "### 创建列表\n"
   ]
  },
  {
   "cell_type": "code",
   "execution_count": 41,
   "metadata": {},
   "outputs": [
    {
     "name": "stdout",
     "output_type": "stream",
     "text": [
      "[5, 12, 13, 14]\n",
      "['red', 'blue', 'black', 'white']\n",
      "['red', 12, 112.12]\n"
     ]
    }
   ],
   "source": [
    "my_list1 = [5,12,13,14] # the list contains all integer values\n",
    "print(my_list1)\n",
    "\n",
    "my_list2 = ['red','blue','black','white'] # the list contains all string values\n",
    "print(my_list2)\n",
    "\n",
    "my_list3 = ['red',12,112.12] # the list contains a string, an integer and a float value\n",
    "print(my_list3)"
   ]
  },
  {
   "cell_type": "markdown",
   "metadata": {},
   "source": [
    "没有任何元素的列表称为空列表。"
   ]
  },
  {
   "cell_type": "code",
   "execution_count": 43,
   "metadata": {},
   "outputs": [
    {
     "name": "stdout",
     "output_type": "stream",
     "text": [
      "[]\n"
     ]
    }
   ],
   "source": [
    "my_list = []\n",
    "print(my_list)"
   ]
  },
  {
   "attachments": {
    "image.png": {
     "image/png": "[encoded data removed]"
    }
   },
   "cell_type": "markdown",
   "metadata": {},
   "source": [
    "### 列表索引\n",
    "\n",
    "color_list=[\"RED\", \"Blue\", \"Green\", \"Black\"]\n",
    "\n",
    "列表索引的工作方式与字符串索引相同，列表索引从 0 开始。如果索引具有正值，则从头开始计数，类似地，如果索引具有负值，则向后计数。由于正整数用于从左端开始索引，而负整数用于从右端开始索引，因此列表的每个项目都提供两个替代索引。让我们创建一个名为 color_list 的列表，其中包含四个项目。\n",
    "![image.png](attachment:image.png)"
   ]
  },
  {
   "cell_type": "code",
   "execution_count": 44,
   "metadata": {},
   "outputs": [
    {
     "name": "stdout",
     "output_type": "stream",
     "text": [
      "RED Black\n",
      "Black\n"
     ]
    }
   ],
   "source": [
    "color_list = [\"RED\", \"Blue\", \"Green\", \"Black\"] # The list have four elements indices start at 0 and end at 3\n",
    "print(color_list[0],color_list[3]) # Print First and Last Elements\n",
    "\n",
    "print(color_list[-1]) # Print Last Element"
   ]
  },
  {
   "cell_type": "code",
   "execution_count": 45,
   "metadata": {},
   "outputs": [
    {
     "ename": "IndexError",
     "evalue": "list index out of range",
     "output_type": "error",
     "traceback": [
      "\u001b[1;31m---------------------------------------------------------------------------\u001b[0m",
      "\u001b[1;31mIndexError\u001b[0m                                Traceback (most recent call last)",
      "\u001b[1;32m<ipython-input-45-482df869e70b>\u001b[0m in \u001b[0;36m<module>\u001b[1;34m\u001b[0m\n\u001b[1;32m----> 1\u001b[1;33m \u001b[0mprint\u001b[0m\u001b[1;33m(\u001b[0m\u001b[0mcolor_list\u001b[0m\u001b[1;33m[\u001b[0m\u001b[1;36m4\u001b[0m\u001b[1;33m]\u001b[0m\u001b[1;33m)\u001b[0m\u001b[1;33m\u001b[0m\u001b[1;33m\u001b[0m\u001b[0m\n\u001b[0m",
      "\u001b[1;31mIndexError\u001b[0m: list index out of range"
     ]
    }
   ],
   "source": [
    "print(color_list[4])"
   ]
  },
  {
   "cell_type": "markdown",
   "metadata": {},
   "source": [
    "### 列表切片\n",
    "\n",
    "列表可以像字符串和其他序列一样被切片。列表切片的语法很简单：\n",
    "\n",
    "sliced_list = List_Name[startIndex:endIndex]\n",
    "\n",
    "这指的是从索引 startIndex 开始并在索引 endIndex 之前停止的列表项。列表的默认值为 0 (startIndex) 和列表的结尾 (endIndex)。如果省略两个索引，则切片会复制原始列表。"
   ]
  },
  {
   "cell_type": "code",
   "execution_count": 46,
   "metadata": {},
   "outputs": [
    {
     "name": "stdout",
     "output_type": "stream",
     "text": [
      "['RED', 'Blue']\n",
      "['Blue']\n",
      "['Blue']\n",
      "['RED', 'Blue', 'Green']\n",
      "['RED', 'Blue', 'Green', 'Black']\n"
     ]
    }
   ],
   "source": [
    "color_list = [\"RED\", \"Blue\", \"Green\", \"Black\"]\n",
    "print(color_list[0:2]) # Cut first two items\n",
    "print(color_list[1:2]) # Cut second item\n",
    "print(color_list[1:-2]) # Cut second item\n",
    "print(color_list[:3]) # Cut first three items\n",
    "print(color_list[:]) # Creates copy of original list"
   ]
  },
  {
   "cell_type": "markdown",
   "metadata": {},
   "source": [
    "### 列表是可变的\n",
    "\n",
    "列表中的项目是可变的，即创建列表后，可以更改列表中的任何项目。"
   ]
  },
  {
   "cell_type": "code",
   "execution_count": 47,
   "metadata": {},
   "outputs": [
    {
     "name": "stdout",
     "output_type": "stream",
     "text": [
      "RED\n"
     ]
    }
   ],
   "source": [
    "color_list1 = [\"RED\", \"Blue\", \"Green\", \"Black\"] \n",
    "print(color_list1[0])"
   ]
  },
  {
   "cell_type": "code",
   "execution_count": 49,
   "metadata": {},
   "outputs": [
    {
     "name": "stdout",
     "output_type": "stream",
     "text": [
      "['White', 'Blue', 'Green', 'Black']\n",
      "White\n"
     ]
    }
   ],
   "source": [
    "color_list1[0] = \"White\" # Change the value of first item \"Red\" to \"White\"\n",
    "print(color_list1)\n",
    "print(color_list1[0])"
   ]
  },
  {
   "cell_type": "markdown",
   "metadata": {},
   "source": [
    "### 在 List 中使用 + 和 * 运算符\n",
    "\n",
    "使用 + 运算符创建一个连接两个列表的新列表，并使用 * 运算符重复一个列表。"
   ]
  },
  {
   "cell_type": "code",
   "execution_count": 50,
   "metadata": {},
   "outputs": [
    {
     "name": "stdout",
     "output_type": "stream",
     "text": [
      "['White', 'Yellow', 'Red', 'Blue', 'Green', 'Black']\n"
     ]
    }
   ],
   "source": [
    "color_list2 = [\"White\", \"Yellow\"]\n",
    "color_list3 = [\"Red\", \"Blue\"]\n",
    "color_list4 = [\"Green\", \"Black\"]\n",
    "\n",
    "color_list5 = color_list2 + color_list3 + color_list4\n",
    "print(color_list5)"
   ]
  },
  {
   "cell_type": "code",
   "execution_count": 51,
   "metadata": {},
   "outputs": [
    {
     "name": "stdout",
     "output_type": "stream",
     "text": [
      "4\n",
      "[1, 2, 3, 1, 2, 3, 1, 2, 3, 1, 2, 3]\n"
     ]
    }
   ],
   "source": [
    "number = [1,2,3]\n",
    "print(number[0]*4)\n",
    "print(number*4)\n"
   ]
  },
  {
   "cell_type": "markdown",
   "metadata": {},
   "source": [
    "## 集合\n",
    "集合是唯一元素的无序集合。基本用途包括处理集合论（支持联合、交集、差分和对称差分等数学运算）或消除重复条目。"
   ]
  },
  {
   "cell_type": "code",
   "execution_count": 52,
   "metadata": {},
   "outputs": [
    {
     "name": "stdout",
     "output_type": "stream",
     "text": [
      "{0, 1, 2, 3, 4, 6, 7, 8}\n",
      "{1, 2, 5, 6, 7, 8, 9}\n"
     ]
    }
   ],
   "source": [
    "a = [1,2,1,3,0,0,4,7,8,6]\n",
    "b = [5,5,7,8,7,9,6,1,1,2]\n",
    "\n",
    "S1 = set(a) # Unique numbers in S1\n",
    "S2 = set(b) # Unique numbers in S2\n",
    "\n",
    "print(S1)\n",
    "print(S2)"
   ]
  },
  {
   "cell_type": "code",
   "execution_count": 54,
   "metadata": {},
   "outputs": [
    {
     "data": {
      "text/plain": [
       "{0, 3, 4}"
      ]
     },
     "execution_count": 54,
     "metadata": {},
     "output_type": "execute_result"
    }
   ],
   "source": [
    "S1 - S2 # numbers in S1 but not in S2"
   ]
  },
  {
   "cell_type": "code",
   "execution_count": 55,
   "metadata": {},
   "outputs": [
    {
     "data": {
      "text/plain": [
       "{0, 1, 2, 3, 4, 5, 6, 7, 8, 9}"
      ]
     },
     "execution_count": 55,
     "metadata": {},
     "output_type": "execute_result"
    }
   ],
   "source": [
    "S1 | S2 # numbers in either S1 or S2"
   ]
  },
  {
   "cell_type": "code",
   "execution_count": 57,
   "metadata": {},
   "outputs": [
    {
     "data": {
      "text/plain": [
       "{1, 2, 6, 7, 8}"
      ]
     },
     "execution_count": 57,
     "metadata": {},
     "output_type": "execute_result"
    }
   ],
   "source": [
    "S1 & S2 # numbers in both S1 and S2"
   ]
  },
  {
   "cell_type": "code",
   "execution_count": 58,
   "metadata": {},
   "outputs": [
    {
     "data": {
      "text/plain": [
       "{0, 3, 4, 5, 9}"
      ]
     },
     "execution_count": 58,
     "metadata": {},
     "output_type": "execute_result"
    }
   ],
   "source": [
    "S1 ^ S2 # numbers in S1 or S2 but not both"
   ]
  },
  {
   "cell_type": "markdown",
   "metadata": {},
   "source": [
    "## 元组(tuple)\n",
    "\n",
    "元组是一个容器，它在括号之间保存一系列逗号分隔的值（项目或元素）。元组是不可变的（即一旦创建就不能更改其内容）并且可以保存混合数据类型。"
   ]
  },
  {
   "cell_type": "markdown",
   "metadata": {},
   "source": [
    "### 创建元组"
   ]
  },
  {
   "cell_type": "code",
   "execution_count": 60,
   "metadata": {},
   "outputs": [
    {
     "name": "stdout",
     "output_type": "stream",
     "text": [
      "<class 'tuple'>\n",
      "(0, -1, 12, 212.23, 100)\n",
      "('Red', 'Black', 2000, 'White')\n",
      "('a1', 'b1', 'c1', 'd1')\n"
     ]
    }
   ],
   "source": [
    "tup1 = (0,-1,12,212.23,100) # 5 items with parentheses\n",
    "print(type(tup1))\n",
    "print(tup1)\n",
    "tup2 = ('Red', 'Black', 2000, 'White') # 5 items with mixed types\n",
    "print(tup2)\n",
    "tup3 = ('a1', 'b1', 'c1', 'd1') # 5 items with mixed types\n",
    "print(tup3)"
   ]
  },
  {
   "cell_type": "markdown",
   "metadata": {},
   "source": [
    "要创建一个空元组或创建一个具有单个元素的元组，使用以下命令。\n"
   ]
  },
  {
   "cell_type": "code",
   "execution_count": 62,
   "metadata": {},
   "outputs": [
    {
     "name": "stdout",
     "output_type": "stream",
     "text": [
      "()\n",
      "(100,)\n"
     ]
    }
   ],
   "source": [
    "empty_tup1 = () # This command creates an empty tuple\n",
    "print(empty_tup1)\n",
    "\n",
    "single_tup1 = (100,) # This command creates an empty tuple\n",
    "print(single_tup1)\n"
   ]
  },
  {
   "cell_type": "markdown",
   "metadata": {},
   "source": [
    "元组是不可变的，这意味着它的项目值是不可更改的。\n"
   ]
  },
  {
   "cell_type": "code",
   "execution_count": 64,
   "metadata": {},
   "outputs": [
    {
     "name": "stdout",
     "output_type": "stream",
     "text": [
      "Red\n"
     ]
    },
    {
     "ename": "TypeError",
     "evalue": "'tuple' object does not support item assignment",
     "output_type": "error",
     "traceback": [
      "\u001b[1;31m---------------------------------------------------------------------------\u001b[0m",
      "\u001b[1;31mTypeError\u001b[0m                                 Traceback (most recent call last)",
      "\u001b[1;32m<ipython-input-64-6fcb1e64b916>\u001b[0m in \u001b[0;36m<module>\u001b[1;34m\u001b[0m\n\u001b[0;32m      1\u001b[0m \u001b[0mtup4\u001b[0m \u001b[1;33m=\u001b[0m \u001b[1;33m(\u001b[0m\u001b[1;34m'Red'\u001b[0m\u001b[1;33m,\u001b[0m \u001b[1;34m'Black'\u001b[0m\u001b[1;33m,\u001b[0m \u001b[1;36m2000\u001b[0m\u001b[1;33m,\u001b[0m \u001b[1;36m12.12\u001b[0m\u001b[1;33m)\u001b[0m\u001b[1;33m\u001b[0m\u001b[1;33m\u001b[0m\u001b[0m\n\u001b[0;32m      2\u001b[0m \u001b[0mprint\u001b[0m\u001b[1;33m(\u001b[0m\u001b[0mtup4\u001b[0m\u001b[1;33m[\u001b[0m\u001b[1;36m0\u001b[0m\u001b[1;33m]\u001b[0m\u001b[1;33m)\u001b[0m \u001b[1;31m# The value of the first item is \"Red\"\u001b[0m\u001b[1;33m\u001b[0m\u001b[1;33m\u001b[0m\u001b[0m\n\u001b[1;32m----> 3\u001b[1;33m \u001b[0mtup4\u001b[0m\u001b[1;33m[\u001b[0m\u001b[1;36m0\u001b[0m\u001b[1;33m]\u001b[0m \u001b[1;33m=\u001b[0m \u001b[1;34m'White'\u001b[0m\u001b[1;33m\u001b[0m\u001b[1;33m\u001b[0m\u001b[0m\n\u001b[0m",
      "\u001b[1;31mTypeError\u001b[0m: 'tuple' object does not support item assignment"
     ]
    }
   ],
   "source": [
    "tup4 = ('Red', 'Black', 2000, 12.12)\n",
    "print(tup4[0]) # The value of the first item is \"Red\"\n",
    "tup4[0] = 'White' \n"
   ]
  },
  {
   "cell_type": "code",
   "execution_count": 65,
   "metadata": {},
   "outputs": [
    {
     "name": "stdout",
     "output_type": "stream",
     "text": [
      "Red\n"
     ]
    }
   ],
   "source": [
    "print(tup4[0]) #Return the original value as tuples are immutable"
   ]
  },
  {
   "cell_type": "markdown",
   "metadata": {},
   "source": [
    "### 切片元组\n",
    "像字符串等其他序列一样，元组可以被切片。切片元组会创建一个新元组，但不会更改原始元组。"
   ]
  },
  {
   "cell_type": "code",
   "execution_count": 67,
   "metadata": {},
   "outputs": [
    {
     "name": "stdout",
     "output_type": "stream",
     "text": [
      "('Red', 'Black')\n",
      "('Black',)\n",
      "('Black',)\n",
      "('Red', 'Black', 2000)\n"
     ]
    }
   ],
   "source": [
    "tup4 = ('Red', 'Black', 2000, 12.12)\n",
    "\n",
    "print(tup4[0:2]) # Cut first two items\n",
    "print(tup4[1:2]) # Cut second item\n",
    "print(tup4[1:-2]) # Cut second item\n",
    "print(tup4[:3]) # Cut first three items"
   ]
  },
  {
   "cell_type": "markdown",
   "metadata": {},
   "source": [
    "### 在元组中使用 + 和 * 运算符"
   ]
  },
  {
   "cell_type": "code",
   "execution_count": 68,
   "metadata": {},
   "outputs": [
    {
     "name": "stdout",
     "output_type": "stream",
     "text": [
      "(1, 2, 3, 4, 5, 6, 7, 8, 9)\n",
      "(1, 2, 3, 1, 2, 3, 1, 2, 3, 1, 2, 3)\n"
     ]
    }
   ],
   "source": [
    "tup5 = (1,2,3)\n",
    "tup6 = (4,5,6)\n",
    "tup7 = (7,8,9)\n",
    "\n",
    "tup8 = tup5 + tup6 + tup7\n",
    "print(tup8)\n",
    "\n",
    "print(tup5*4)"
   ]
  },
  {
   "cell_type": "markdown",
   "metadata": {},
   "source": [
    "## 字典(dictionary)\n",
    "Python 字典是无序对象集（如列表）的容器。对象被花括号 { } 包围。字典中的项目是以逗号分隔的键：值对列表，其中键和值是 Python 数据类型。键和键访问的每个对象或值在字典中都是唯一的。由于键用于索引，它们必须是不可变类型（字符串、数字或元组）。使用空花括号创建一个空字典"
   ]
  },
  {
   "cell_type": "code",
   "execution_count": 70,
   "metadata": {},
   "outputs": [
    {
     "name": "stdout",
     "output_type": "stream",
     "text": [
      "V\n",
      "A\n",
      "12\n",
      "{'class': 'V', 'section': 'A', 'roll_no': 12}\n"
     ]
    }
   ],
   "source": [
    "pd = {\"class\": 'V',\"section\":'A','roll_no':12}\n",
    "print(pd[\"class\"])\n",
    "print(pd[\"section\"])\n",
    "print(pd[\"roll_no\"])\n",
    "print(pd)"
   ]
  },
  {
   "cell_type": "code",
   "execution_count": 71,
   "metadata": {},
   "outputs": [
    {
     "name": "stdout",
     "output_type": "stream",
     "text": [
      "This is one\n",
      "This is two\n",
      "{'name': 'runoob', 'code': 6734, 'dept': 'sales'}\n",
      "dict_keys(['name', 'code', 'dept'])\n",
      "dict_values(['runoob', 6734, 'sales'])\n"
     ]
    }
   ],
   "source": [
    "dict = {}\n",
    "dict['one'] = \"This is one\"\n",
    "dict[2] = \"This is two\"\n",
    " \n",
    "tinydict = {'name': 'runoob','code':6734, 'dept': 'sales'}\n",
    " \n",
    " \n",
    "print (dict['one'])          # 输出键为'one' 的值\n",
    "print (dict[2])              # 输出键为 2 的值\n",
    "print (tinydict)             # 输出完整的字典\n",
    "print (tinydict.keys())      # 输出所有键\n",
    "print (tinydict.values())    # 输出所有值\n"
   ]
  },
  {
   "cell_type": "markdown",
   "metadata": {},
   "source": [
    "## Python input 函数"
   ]
  },
  {
   "cell_type": "code",
   "execution_count": 1,
   "metadata": {},
   "outputs": [
    {
     "name": "stdout",
     "output_type": "stream",
     "text": [
      "Please inputaaaa\n",
      "aaaa\n"
     ]
    }
   ],
   "source": [
    "inputstr = input(\"Please input\")\n",
    "print(inputstr)"
   ]
  },
  {
   "cell_type": "markdown",
   "metadata": {},
   "source": [
    "## Python print() 函数\n",
    "\n",
    "print 语句已替换为 print() 函数，使用关键字参数替换旧 print 语句的大部分特殊语法。\n",
    "\n",
    "print 语句可以通过以下方式使用：\n",
    "\n",
    "print(\"Good Morning\")\n",
    "\n",
    "print(\"Good\",  <包含字符串的变量>)\n",
    "\n",
    "print(\"Good\" +  <包含字符串的变量>)\n",
    "\n",
    "print(\"Good %s\" %  <包含字符串的变量>)\n",
    "\n",
    "在 Python 中，单引号、双引号和三引号用于表示字符串。大多数在声明单个字符时使用单引号。声明一行时使用双引号，声明段落/多行时使用三引号。\n"
   ]
  },
  {
   "cell_type": "markdown",
   "metadata": {},
   "source": [
    "### 双引号使用"
   ]
  },
  {
   "cell_type": "code",
   "execution_count": 72,
   "metadata": {},
   "outputs": [
    {
     "name": "stdout",
     "output_type": "stream",
     "text": [
      "Python is very simple language\n"
     ]
    }
   ],
   "source": [
    "print(\"Python is very simple language\")"
   ]
  },
  {
   "cell_type": "markdown",
   "metadata": {},
   "source": [
    "### 单引号使用"
   ]
  },
  {
   "cell_type": "code",
   "execution_count": 74,
   "metadata": {},
   "outputs": [
    {
     "name": "stdout",
     "output_type": "stream",
     "text": [
      "Hello\n"
     ]
    }
   ],
   "source": [
    "print('Hello')"
   ]
  },
  {
   "cell_type": "markdown",
   "metadata": {},
   "source": [
    "### 三引号使用"
   ]
  },
  {
   "cell_type": "code",
   "execution_count": 75,
   "metadata": {},
   "outputs": [
    {
     "name": "stdout",
     "output_type": "stream",
     "text": [
      "Python is very popular language.\n",
      "It is also friendly language.\n"
     ]
    }
   ],
   "source": [
    "print(\"\"\"Python is very popular language.\n",
    "It is also friendly language.\"\"\")"
   ]
  },
  {
   "cell_type": "markdown",
   "metadata": {},
   "source": [
    "### 变量使用\n",
    "\n",
    "可以将字符串分配给变量 string1 和 string2，这些变量可以在使用 print 语句时调用"
   ]
  },
  {
   "cell_type": "code",
   "execution_count": 76,
   "metadata": {},
   "outputs": [
    {
     "name": "stdout",
     "output_type": "stream",
     "text": [
      "Wel come\n"
     ]
    }
   ],
   "source": [
    "str7 = 'Wel'\n",
    "print(str7,'come') "
   ]
  },
  {
   "cell_type": "code",
   "execution_count": 77,
   "metadata": {},
   "outputs": [
    {
     "name": "stdout",
     "output_type": "stream",
     "text": [
      "Welcome Python\n"
     ]
    }
   ],
   "source": [
    "str1 = 'Welcome'\n",
    "str2 = 'Python'\n",
    "print(str1, str2)"
   ]
  },
  {
   "cell_type": "markdown",
   "metadata": {},
   "source": [
    "### 字符串连接：\n",
    "\n",
    "字符串连接是两个字符串的“加法”。请注意，在连接时，字符串之间将没有空格。"
   ]
  },
  {
   "cell_type": "code",
   "execution_count": 78,
   "metadata": {},
   "outputs": [
    {
     "name": "stdout",
     "output_type": "stream",
     "text": [
      "WelcomePython:\n"
     ]
    }
   ],
   "source": [
    "str1 = 'Python'\n",
    "str2 = ':'\n",
    "print('Welcome' + str1 + str2)"
   ]
  },
  {
   "cell_type": "markdown",
   "metadata": {},
   "source": [
    "### 字符串使用\n",
    "%s 用于引用包含字符串的变量。"
   ]
  },
  {
   "cell_type": "code",
   "execution_count": 79,
   "metadata": {},
   "outputs": [
    {
     "name": "stdout",
     "output_type": "stream",
     "text": [
      "Welcome Python\n"
     ]
    }
   ],
   "source": [
    "str1 = 'Python'\n",
    "print(\"Welcome %s\" % str1)"
   ]
  },
  {
   "cell_type": "markdown",
   "metadata": {},
   "source": [
    "### 使用其他数据类型\n",
    "\n",
    "同样，当使用其他数据类型时\n",
    "\n",
    "%d -> 整数\n",
    "\n",
    "%e -> 指数\n",
    "\n",
    "%f -> 浮点数\n",
    "\n",
    "%o -> 八进制\n",
    "\n",
    "%x -> 十六进制\n",
    "\n",
    "这可用于 print 语句本身内部的转换。\n",
    "\n",
    "#### 用作整数"
   ]
  },
  {
   "cell_type": "code",
   "execution_count": 88,
   "metadata": {},
   "outputs": [
    {
     "name": "stdout",
     "output_type": "stream",
     "text": [
      "Actual Number = 15\n"
     ]
    }
   ],
   "source": [
    "print(\"Actual Number = %d\" %15)"
   ]
  },
  {
   "cell_type": "markdown",
   "metadata": {},
   "source": [
    "#### 用作指数"
   ]
  },
  {
   "cell_type": "code",
   "execution_count": 89,
   "metadata": {},
   "outputs": [
    {
     "name": "stdout",
     "output_type": "stream",
     "text": [
      "Exponential equivalent of the number = 1.500000e+01\n"
     ]
    }
   ],
   "source": [
    "print(\"Exponential equivalent of the number = %e\" %15)"
   ]
  },
  {
   "cell_type": "markdown",
   "metadata": {},
   "source": [
    "#### 用作浮点数"
   ]
  },
  {
   "cell_type": "code",
   "execution_count": 90,
   "metadata": {},
   "outputs": [
    {
     "name": "stdout",
     "output_type": "stream",
     "text": [
      "Float of the number = 15.000000\n"
     ]
    }
   ],
   "source": [
    "print(\"Float of the number = %f\" %15)"
   ]
  },
  {
   "cell_type": "markdown",
   "metadata": {},
   "source": [
    "#### 用作八进制"
   ]
  },
  {
   "cell_type": "code",
   "execution_count": 91,
   "metadata": {},
   "outputs": [
    {
     "name": "stdout",
     "output_type": "stream",
     "text": [
      "Octal equivalent of the number = 17\n"
     ]
    }
   ],
   "source": [
    "print(\"Octal equivalent of the number = %o\" %15)"
   ]
  },
  {
   "cell_type": "markdown",
   "metadata": {},
   "source": [
    "#### 用作十六进制"
   ]
  },
  {
   "cell_type": "code",
   "execution_count": 92,
   "metadata": {},
   "outputs": [
    {
     "name": "stdout",
     "output_type": "stream",
     "text": [
      "Hexadecimal equivalent of the number = f\n"
     ]
    }
   ],
   "source": [
    "print(\"Hexadecimal equivalent of the number = %x\" %15)"
   ]
  },
  {
   "cell_type": "markdown",
   "metadata": {},
   "source": [
    "#### 使用多个变量\n",
    "\n",
    "当引用多个变量时，使用括号"
   ]
  },
  {
   "cell_type": "code",
   "execution_count": 93,
   "metadata": {},
   "outputs": [
    {
     "name": "stdout",
     "output_type": "stream",
     "text": [
      "Python World :\n"
     ]
    }
   ],
   "source": [
    "str1 = 'World'\n",
    "str2 = ':'\n",
    "print(\"Python %s %s\" %(str1,str2))"
   ]
  },
  {
   "cell_type": "markdown",
   "metadata": {},
   "source": [
    "#### % 用于 %d类型的字符"
   ]
  },
  {
   "cell_type": "code",
   "execution_count": 95,
   "metadata": {},
   "outputs": [
    {
     "name": "stdout",
     "output_type": "stream",
     "text": [
      "Welcome to %Python language\n"
     ]
    }
   ],
   "source": [
    "print(\"Welcome to %%Python %s\" %'language')"
   ]
  },
  {
   "cell_type": "markdown",
   "metadata": {},
   "source": [
    "#### \\n 用于换行符"
   ]
  },
  {
   "cell_type": "code",
   "execution_count": 96,
   "metadata": {},
   "outputs": [
    {
     "name": "stdout",
     "output_type": "stream",
     "text": [
      "Sunday\n",
      "Monday\n",
      "Tuesday\n",
      "Wednesday\n",
      "Thursday\n",
      "Friday\n",
      "Saturday\n"
     ]
    }
   ],
   "source": [
    "print(\"Sunday\\nMonday\\nTuesday\\nWednesday\\nThursday\\nFriday\\nSaturday\")"
   ]
  },
  {
   "cell_type": "markdown",
   "metadata": {},
   "source": [
    "#### 任何字符打印多次"
   ]
  },
  {
   "cell_type": "code",
   "execution_count": 97,
   "metadata": {},
   "outputs": [
    {
     "name": "stdout",
     "output_type": "stream",
     "text": [
      "-w3r-w3r-w3r-w3r-w3r\n"
     ]
    }
   ],
   "source": [
    "print('-w3r'*5)"
   ]
  },
  {
   "cell_type": "markdown",
   "metadata": {},
   "source": [
    "#### \\t 用于制表符"
   ]
  },
  {
   "cell_type": "code",
   "execution_count": 98,
   "metadata": {},
   "outputs": [
    {
     "name": "stdout",
     "output_type": "stream",
     "text": [
      "\n",
      "Language:\n",
      "\t1 Python\n",
      "\t2 Java\n",
      "\t3 JavaScript\n",
      "\n"
     ]
    }
   ],
   "source": [
    "print(\"\"\"\n",
    "Language:\n",
    "\\t1 Python\n",
    "\\t2 Java\\n\\t3 JavaScript\n",
    "\"\"\")"
   ]
  },
  {
   "cell_type": "markdown",
   "metadata": {},
   "source": [
    "### 精度宽度\n",
    "\n",
    "字段宽度是整数的宽度，精度是向右的宽度。可以根据要求更改这些宽度。\n",
    "\n",
    "默认精度宽度设置为 6。\n",
    "\n",
    "注意最多返回 6 个小数点。要指定小数点数，使用“%(fieldwidth).(precisionwidth)f”。"
   ]
  },
  {
   "cell_type": "code",
   "execution_count": 99,
   "metadata": {},
   "outputs": [
    {
     "name": "stdout",
     "output_type": "stream",
     "text": [
      "5.123457\n"
     ]
    }
   ],
   "source": [
    "print(\"%f\" % 5.1234567890) "
   ]
  },
  {
   "cell_type": "markdown",
   "metadata": {},
   "source": [
    "返回 5 个小数点"
   ]
  },
  {
   "cell_type": "code",
   "execution_count": 100,
   "metadata": {},
   "outputs": [
    {
     "name": "stdout",
     "output_type": "stream",
     "text": [
      "5.12346\n"
     ]
    }
   ],
   "source": [
    "print(\"%.5f\" % 5.1234567890)"
   ]
  },
  {
   "cell_type": "markdown",
   "metadata": {},
   "source": [
    "如果设置的字段宽度大于必要的值，则数据会右对齐以调整到指定的值。"
   ]
  },
  {
   "cell_type": "code",
   "execution_count": 101,
   "metadata": {},
   "outputs": [
    {
     "name": "stdout",
     "output_type": "stream",
     "text": [
      "  5.12346\n"
     ]
    }
   ],
   "source": [
    "print(\"%9.5f\" % 5.1234567890)"
   ]
  },
  {
   "cell_type": "markdown",
   "metadata": {},
   "source": [
    "零填充是通过在字段宽度的开头添加 0 来完成的。"
   ]
  },
  {
   "cell_type": "code",
   "execution_count": 102,
   "metadata": {},
   "outputs": [
    {
     "name": "stdout",
     "output_type": "stream",
     "text": [
      "000000005.12346\n"
     ]
    }
   ],
   "source": [
    "print(\"%015.5f\" % 5.1234567890)"
   ]
  },
  {
   "cell_type": "markdown",
   "metadata": {},
   "source": [
    "为了正确对齐，可以在字段宽度中留空空格，以便在使用负数时保持正确对齐。"
   ]
  },
  {
   "cell_type": "code",
   "execution_count": 103,
   "metadata": {},
   "outputs": [
    {
     "name": "stdout",
     "output_type": "stream",
     "text": [
      " 5.123457\n",
      "-5.123457\n"
     ]
    }
   ],
   "source": [
    "print(\"% 9f\" % 5.1234567890)\n",
    "print(\"% 9f\" % -5.1234567890)"
   ]
  },
  {
   "cell_type": "markdown",
   "metadata": {},
   "source": [
    "通过在字段宽度的开头添加 + 号，可以在正数的开头返回“+”号。"
   ]
  },
  {
   "cell_type": "code",
   "execution_count": 104,
   "metadata": {},
   "outputs": [
    {
     "name": "stdout",
     "output_type": "stream",
     "text": [
      "+5.123457\n",
      "-5.123457\n"
     ]
    }
   ],
   "source": [
    "print(\"%+9f\" % 5.1234567890)\n",
    "print(\"% 9f\" % -5.1234567890)"
   ]
  },
  {
   "cell_type": "markdown",
   "metadata": {},
   "source": [
    "当提到的字段宽度大于实际字段宽度时，数据会自动对齐。但是左对齐可以通过在字段宽度中指定一个负号来完成。"
   ]
  },
  {
   "cell_type": "code",
   "execution_count": 105,
   "metadata": {},
   "outputs": [
    {
     "name": "stdout",
     "output_type": "stream",
     "text": [
      "5.1235   \n"
     ]
    }
   ],
   "source": [
    "print(\"%-9.4f\" % 5.1234567890)"
   ]
  },
  {
   "cell_type": "code",
   "execution_count": null,
   "metadata": {},
   "outputs": [],
   "source": []
  }
 ],
 "metadata": {
  "kernelspec": {
   "display_name": "Python 3",
   "language": "python",
   "name": "python3"
  },
  "language_info": {
   "codemirror_mode": {
    "name": "ipython",
    "version": 3
   },
   "file_extension": ".py",
   "mimetype": "text/x-python",
   "name": "python",
   "nbconvert_exporter": "python",
   "pygments_lexer": "ipython3",
   "version": "3.8.5"
  }
 },
 "nbformat": 4,
 "nbformat_minor": 4
}
